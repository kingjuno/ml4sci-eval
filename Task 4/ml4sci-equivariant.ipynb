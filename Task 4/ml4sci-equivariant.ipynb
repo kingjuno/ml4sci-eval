{
 "cells": [
  {
   "cell_type": "code",
   "execution_count": 1,
   "id": "eab54f75",
   "metadata": {
    "execution": {
     "iopub.execute_input": "2023-02-26T18:20:20.066020Z",
     "iopub.status.busy": "2023-02-26T18:20:20.065534Z",
     "iopub.status.idle": "2023-02-26T18:20:33.505606Z",
     "shell.execute_reply": "2023-02-26T18:20:33.504262Z"
    },
    "papermill": {
     "duration": 13.453012,
     "end_time": "2023-02-26T18:20:33.508490",
     "exception": false,
     "start_time": "2023-02-26T18:20:20.055478",
     "status": "completed"
    },
    "tags": []
   },
   "outputs": [
    {
     "name": "stdout",
     "output_type": "stream",
     "text": [
      "\u001b[33mWARNING: Running pip as the 'root' user can result in broken permissions and conflicting behaviour with the system package manager. It is recommended to use a virtual environment instead: https://pip.pypa.io/warnings/venv\u001b[0m\u001b[33m\r\n",
      "\u001b[0m"
     ]
    }
   ],
   "source": [
    "try:\n",
    "    done\n",
    "except:\n",
    "    done = True\n",
    "    !mkdir lenses\n",
    "    !tar -xf /kaggle/input/ml4sci/lenses.tgz\n",
    "    !pip install -q e2cnn"
   ]
  },
  {
   "cell_type": "markdown",
   "id": "28a9bc22",
   "metadata": {
    "papermill": {
     "duration": 0.004836,
     "end_time": "2023-02-26T18:20:33.518827",
     "exception": false,
     "start_time": "2023-02-26T18:20:33.513991",
     "status": "completed"
    },
    "tags": []
   },
   "source": [
    "**Specific Test IV. Exploring Equivariant Neural Networks**\n",
    "\n",
    "**Task:** Use an Equivariant Neural Network of your choice to build a robust and efficient model for binary classification or unsupervised anomaly detection on the provided dataset. In the case of unsupervised anomaly detection, train your model to learn the distribution of the provided strong lensing images with no substructure. Please implement your approach in PyTorch or Keras and discuss your strategy.\n",
    "\n",
    "\n",
    "**Dataset Description:** A set of simulated strong gravitational lensing images with and without substructure. \n",
    "\n",
    "**Evaluation Metrics:** ROC curve (Receiver Operating Characteristic curve) and AUC score (Area Under the ROC Curve)\n"
   ]
  },
  {
   "cell_type": "code",
   "execution_count": 2,
   "id": "7db64282",
   "metadata": {
    "_cell_guid": "b1076dfc-b9ad-4769-8c92-a6c4dae69d19",
    "_uuid": "8f2839f25d086af736a60e9eeb907d3b93b6e0e5",
    "execution": {
     "iopub.execute_input": "2023-02-26T18:20:33.530823Z",
     "iopub.status.busy": "2023-02-26T18:20:33.530044Z",
     "iopub.status.idle": "2023-02-26T18:20:37.750581Z",
     "shell.execute_reply": "2023-02-26T18:20:37.749563Z"
    },
    "papermill": {
     "duration": 4.22969,
     "end_time": "2023-02-26T18:20:37.753361",
     "exception": false,
     "start_time": "2023-02-26T18:20:33.523671",
     "status": "completed"
    },
    "tags": []
   },
   "outputs": [],
   "source": [
    "import copy\n",
    "import warnings\n",
    "\n",
    "import matplotlib.pyplot as plt\n",
    "import numpy as np\n",
    "import pandas as pd\n",
    "import torch\n",
    "import torch.nn.functional as F\n",
    "import torch.optim as optim\n",
    "import torchvision\n",
    "import torchvision.datasets as datasets\n",
    "import torchvision.transforms as transforms\n",
    "\n",
    "from e2cnn import gspaces\n",
    "from e2cnn import nn as e2nn\n",
    "from itertools import cycle\n",
    "from PIL import Image\n",
    "from skimage import io, transform\n",
    "from sklearn.metrics import auc, confusion_matrix, ConfusionMatrixDisplay, roc_auc_score, roc_curve\n",
    "from torch import optim\n",
    "from torch.utils.data import DataLoader, Dataset, SubsetRandomSampler\n",
    "from torchvision import transforms, utils\n",
    "from torchvision.transforms import (Compose, Pad, RandomRotation, Resize,\n",
    "                                    ToTensor)\n",
    "\n",
    "from tqdm import tqdm\n",
    "\n",
    "warnings.filterwarnings('ignore')"
   ]
  },
  {
   "cell_type": "markdown",
   "id": "8b7df613",
   "metadata": {
    "papermill": {
     "duration": 0.00477,
     "end_time": "2023-02-26T18:20:37.763344",
     "exception": false,
     "start_time": "2023-02-26T18:20:37.758574",
     "status": "completed"
    },
    "tags": []
   },
   "source": [
    "# Data Preparation"
   ]
  },
  {
   "cell_type": "code",
   "execution_count": 3,
   "id": "e11b8596",
   "metadata": {
    "execution": {
     "iopub.execute_input": "2023-02-26T18:20:37.774514Z",
     "iopub.status.busy": "2023-02-26T18:20:37.774011Z",
     "iopub.status.idle": "2023-02-26T18:20:37.784780Z",
     "shell.execute_reply": "2023-02-26T18:20:37.783766Z"
    },
    "papermill": {
     "duration": 0.018594,
     "end_time": "2023-02-26T18:20:37.786759",
     "exception": false,
     "start_time": "2023-02-26T18:20:37.768165",
     "status": "completed"
    },
    "tags": []
   },
   "outputs": [],
   "source": [
    "def get_train_valid_loader(\n",
    "    data_dir,\n",
    "    batch_size,\n",
    "    random_seed,\n",
    "    valid_size=0.1,\n",
    "    shuffle=True,\n",
    "):\n",
    "\n",
    "    valid_transform = transforms.Compose(\n",
    "        [\n",
    "            transforms.RandomCrop(128),\n",
    "            transforms.Grayscale(num_output_channels=1),\n",
    "            transforms.ToTensor(),\n",
    "        ]\n",
    "    )\n",
    "\n",
    "    train_transform = transforms.Compose(\n",
    "        [\n",
    "            transforms.RandomRotation(30),\n",
    "            transforms.RandomCrop(128),\n",
    "            transforms.Resize(256),\n",
    "            transforms.RandomRotation(180),\n",
    "            transforms.ColorJitter(brightness=(0.8, 1.2)),\n",
    "            transforms.Resize(128),\n",
    "            transforms.Grayscale(num_output_channels=1),\n",
    "            transforms.ToTensor(),\n",
    "        ]\n",
    "    )\n",
    "\n",
    "    # load the dataset\n",
    "    train_dataset = datasets.ImageFolder(\n",
    "        root=data_dir,\n",
    "        transform=train_transform,\n",
    "    )\n",
    "\n",
    "    valid_dataset = datasets.ImageFolder(\n",
    "        root=data_dir,\n",
    "        transform=valid_transform,\n",
    "    )\n",
    "\n",
    "    num_train = len(train_dataset)\n",
    "    indices = list(range(num_train))\n",
    "    split = int(np.floor(valid_size * num_train))\n",
    "\n",
    "    if shuffle:\n",
    "        np.random.seed(random_seed)\n",
    "        np.random.shuffle(indices)\n",
    "\n",
    "    train_idx, valid_idx = indices[split:], indices[:split]\n",
    "    train_sampler = SubsetRandomSampler(train_idx)\n",
    "    valid_sampler = SubsetRandomSampler(valid_idx)\n",
    "\n",
    "    train_loader = torch.utils.data.DataLoader(\n",
    "        train_dataset,\n",
    "        batch_size=batch_size,\n",
    "        sampler=train_sampler,\n",
    "        num_workers=2,\n",
    "        pin_memory=True,\n",
    "    )\n",
    "    valid_loader = torch.utils.data.DataLoader(\n",
    "        valid_dataset,\n",
    "        batch_size=batch_size,\n",
    "        sampler=valid_sampler,\n",
    "        num_workers=2,\n",
    "        pin_memory=True,\n",
    "    )\n",
    "\n",
    "    return (train_loader, valid_loader)"
   ]
  },
  {
   "cell_type": "code",
   "execution_count": 4,
   "id": "c541bb71",
   "metadata": {
    "execution": {
     "iopub.execute_input": "2023-02-26T18:20:37.800062Z",
     "iopub.status.busy": "2023-02-26T18:20:37.797332Z",
     "iopub.status.idle": "2023-02-26T18:20:38.077078Z",
     "shell.execute_reply": "2023-02-26T18:20:38.076088Z"
    },
    "papermill": {
     "duration": 0.288414,
     "end_time": "2023-02-26T18:20:38.079912",
     "exception": false,
     "start_time": "2023-02-26T18:20:37.791498",
     "status": "completed"
    },
    "tags": []
   },
   "outputs": [],
   "source": [
    "lr = 0.0001\n",
    "epochs = 10\n",
    "gamma = 0.7\n",
    "batch_size = 64\n",
    "device = 'cuda' if torch.cuda.is_available() else 'cpu'\n",
    "lense_train, lense_test = get_train_valid_loader('lenses', batch_size, 40, 0.1)"
   ]
  },
  {
   "cell_type": "markdown",
   "id": "337703e9",
   "metadata": {
    "papermill": {
     "duration": 0.005167,
     "end_time": "2023-02-26T18:20:38.096424",
     "exception": false,
     "start_time": "2023-02-26T18:20:38.091257",
     "status": "completed"
    },
    "tags": []
   },
   "source": [
    "# Model"
   ]
  },
  {
   "cell_type": "code",
   "execution_count": 5,
   "id": "e7b978f6",
   "metadata": {
    "execution": {
     "iopub.execute_input": "2023-02-26T18:20:38.109488Z",
     "iopub.status.busy": "2023-02-26T18:20:38.109099Z",
     "iopub.status.idle": "2023-02-26T18:20:38.128516Z",
     "shell.execute_reply": "2023-02-26T18:20:38.127417Z"
    },
    "papermill": {
     "duration": 0.028747,
     "end_time": "2023-02-26T18:20:38.130529",
     "exception": false,
     "start_time": "2023-02-26T18:20:38.101782",
     "status": "completed"
    },
    "tags": []
   },
   "outputs": [],
   "source": [
    "class C8SteerableCNN(torch.nn.Module):\n",
    "    \n",
    "    def __init__(self, n_classes=3):\n",
    "        \n",
    "        super(C8SteerableCNN, self).__init__()\n",
    "        \n",
    "        self.r2_act = gspaces.Rot2dOnR2(N=4)\n",
    "        in_type = e2nn.FieldType(self.r2_act, [self.r2_act.trivial_repr])\n",
    "        self.input_type = in_type\n",
    "        out_type = e2nn.FieldType(self.r2_act, 24*[self.r2_act.regular_repr])\n",
    "        self.block1 = e2nn.SequentialModule(\n",
    "            e2nn.MaskModule(in_type, 128, margin=1),\n",
    "            e2nn.R2Conv(in_type, out_type, kernel_size=7, padding=1, bias=False),\n",
    "            e2nn.InnerBatchNorm(out_type),\n",
    "            e2nn.ReLU(out_type, inplace=True)\n",
    "        )\n",
    "        in_type = self.block1.out_type\n",
    "        out_type = e2nn.FieldType(self.r2_act, 48*[self.r2_act.regular_repr])\n",
    "        self.block2 = e2nn.SequentialModule(\n",
    "            e2nn.R2Conv(in_type, out_type, kernel_size=5, padding=2, bias=False),\n",
    "            e2nn.InnerBatchNorm(out_type),\n",
    "            e2nn.ReLU(out_type, inplace=True)\n",
    "        )\n",
    "        self.pool1 = e2nn.SequentialModule(\n",
    "            e2nn.PointwiseAvgPoolAntialiased(out_type, sigma=0.66, stride=2)\n",
    "        )\n",
    "        in_type = self.block2.out_type\n",
    "        out_type = e2nn.FieldType(self.r2_act, 48*[self.r2_act.regular_repr])\n",
    "        self.block3 = e2nn.SequentialModule(\n",
    "            e2nn.R2Conv(in_type, out_type, kernel_size=5, padding=2, bias=False),\n",
    "            e2nn.InnerBatchNorm(out_type),\n",
    "            e2nn.ReLU(out_type, inplace=True)\n",
    "        )\n",
    "        in_type = self.block3.out_type\n",
    "        out_type = e2nn.FieldType(self.r2_act, 96*[self.r2_act.regular_repr])\n",
    "        self.block4 = e2nn.SequentialModule(\n",
    "            e2nn.R2Conv(in_type, out_type, kernel_size=5, padding=2, bias=False),\n",
    "            e2nn.InnerBatchNorm(out_type),\n",
    "            e2nn.ReLU(out_type, inplace=True)\n",
    "        )\n",
    "        self.pool2 = e2nn.SequentialModule(\n",
    "            e2nn.PointwiseAvgPoolAntialiased(out_type, sigma=0.66, stride=2)\n",
    "        )\n",
    "        in_type = self.block4.out_type\n",
    "        out_type = e2nn.FieldType(self.r2_act, 96*[self.r2_act.regular_repr])\n",
    "        self.block5 = e2nn.SequentialModule(\n",
    "            e2nn.R2Conv(in_type, out_type, kernel_size=5, padding=2, bias=False),\n",
    "            e2nn.InnerBatchNorm(out_type),\n",
    "            e2nn.ReLU(out_type, inplace=True)\n",
    "        )\n",
    "        in_type = self.block5.out_type\n",
    "        out_type = e2nn.FieldType(self.r2_act, 64*[self.r2_act.regular_repr])\n",
    "        self.block6 = e2nn.SequentialModule(\n",
    "            e2nn.R2Conv(in_type, out_type, kernel_size=5, padding=1, bias=False),\n",
    "            e2nn.InnerBatchNorm(out_type),\n",
    "            e2nn.ReLU(out_type, inplace=True)\n",
    "        )\n",
    "        self.pool3 = e2nn.PointwiseAvgPoolAntialiased(out_type, sigma=0.66, stride=1, padding=0)\n",
    "        \n",
    "        self.gpool = e2nn.GroupPooling(out_type)\n",
    "        c = self.gpool.out_type.size\n",
    "        self.fully_net = torch.nn.Sequential(\n",
    "            torch.nn.Linear(40000, 64),\n",
    "            torch.nn.BatchNorm1d(64),\n",
    "            torch.nn.ELU(inplace=True),\n",
    "            torch.nn.Linear(64, n_classes),\n",
    "        )\n",
    "    \n",
    "    def forward(self, input: torch.Tensor):\n",
    "        x = e2nn.GeometricTensor(input, self.input_type)\n",
    "        x = self.block1(x)\n",
    "        x = self.block2(x)\n",
    "        x = self.pool1(x)\n",
    "        \n",
    "        x = self.block3(x)\n",
    "        x = self.block4(x)\n",
    "        x = self.pool2(x)\n",
    "        \n",
    "        x = self.block5(x)\n",
    "        x = self.block6(x)\n",
    "        \n",
    "        x = self.pool3(x)\n",
    "        \n",
    "        x = self.gpool(x)\n",
    "\n",
    "        x = x.tensor\n",
    "        \n",
    "        x = self.fully_net(x.reshape(x.shape[0], -1))\n",
    "        \n",
    "        return x"
   ]
  },
  {
   "cell_type": "code",
   "execution_count": 6,
   "id": "357e9612",
   "metadata": {
    "execution": {
     "iopub.execute_input": "2023-02-26T18:20:38.141970Z",
     "iopub.status.busy": "2023-02-26T18:20:38.141137Z",
     "iopub.status.idle": "2023-02-26T18:20:49.356386Z",
     "shell.execute_reply": "2023-02-26T18:20:49.355363Z"
    },
    "papermill": {
     "duration": 11.223803,
     "end_time": "2023-02-26T18:20:49.359264",
     "exception": false,
     "start_time": "2023-02-26T18:20:38.135461",
     "status": "completed"
    },
    "tags": []
   },
   "outputs": [],
   "source": [
    "model = C8SteerableCNN(2).to(device)"
   ]
  },
  {
   "cell_type": "code",
   "execution_count": 7,
   "id": "2eedbb31",
   "metadata": {
    "execution": {
     "iopub.execute_input": "2023-02-26T18:20:49.371141Z",
     "iopub.status.busy": "2023-02-26T18:20:49.370573Z",
     "iopub.status.idle": "2023-02-26T18:20:49.377847Z",
     "shell.execute_reply": "2023-02-26T18:20:49.376741Z"
    },
    "papermill": {
     "duration": 0.015471,
     "end_time": "2023-02-26T18:20:49.380013",
     "exception": false,
     "start_time": "2023-02-26T18:20:49.364542",
     "status": "completed"
    },
    "tags": []
   },
   "outputs": [],
   "source": [
    "criterion = torch.nn.CrossEntropyLoss()\n",
    "optimizer = optim.Adam(model.parameters(), lr=lr)\n",
    "scheduler = optim.lr_scheduler.StepLR(optimizer, step_size=5, gamma=gamma)"
   ]
  },
  {
   "cell_type": "markdown",
   "id": "6d5d9ce7",
   "metadata": {
    "papermill": {
     "duration": 0.004681,
     "end_time": "2023-02-26T18:20:49.389497",
     "exception": false,
     "start_time": "2023-02-26T18:20:49.384816",
     "status": "completed"
    },
    "tags": []
   },
   "source": [
    "# Training"
   ]
  },
  {
   "cell_type": "code",
   "execution_count": 8,
   "id": "b6bd0abb",
   "metadata": {
    "execution": {
     "iopub.execute_input": "2023-02-26T18:20:49.401689Z",
     "iopub.status.busy": "2023-02-26T18:20:49.400228Z",
     "iopub.status.idle": "2023-02-26T18:39:44.310070Z",
     "shell.execute_reply": "2023-02-26T18:39:44.307537Z"
    },
    "papermill": {
     "duration": 1134.918433,
     "end_time": "2023-02-26T18:39:44.312733",
     "exception": false,
     "start_time": "2023-02-26T18:20:49.394300",
     "status": "completed"
    },
    "tags": []
   },
   "outputs": [
    {
     "name": "stderr",
     "output_type": "stream",
     "text": [
      "100%|██████████| 141/141 [01:51<00:00,  1.26it/s]\n",
      "100%|██████████| 16/16 [00:04<00:00,  3.78it/s]\n"
     ]
    },
    {
     "name": "stdout",
     "output_type": "stream",
     "text": [
      "Epoch : 1 - loss : 0.5534 - acc: 70.3111% - val_loss : 0.2893 - val_acc: 87.3000%\n"
     ]
    },
    {
     "name": "stderr",
     "output_type": "stream",
     "text": [
      "100%|██████████| 141/141 [01:46<00:00,  1.32it/s]\n",
      "100%|██████████| 16/16 [00:04<00:00,  3.73it/s]\n"
     ]
    },
    {
     "name": "stdout",
     "output_type": "stream",
     "text": [
      "Epoch : 2 - loss : 0.2128 - acc: 91.4667% - val_loss : 0.1535 - val_acc: 93.9000%\n"
     ]
    },
    {
     "name": "stderr",
     "output_type": "stream",
     "text": [
      "100%|██████████| 141/141 [01:46<00:00,  1.32it/s]\n",
      "100%|██████████| 16/16 [00:04<00:00,  3.81it/s]\n"
     ]
    },
    {
     "name": "stdout",
     "output_type": "stream",
     "text": [
      "Epoch : 3 - loss : 0.1291 - acc: 95.0444% - val_loss : 0.0971 - val_acc: 96.9000%\n"
     ]
    },
    {
     "name": "stderr",
     "output_type": "stream",
     "text": [
      "100%|██████████| 141/141 [01:46<00:00,  1.32it/s]\n",
      "100%|██████████| 16/16 [00:04<00:00,  3.80it/s]\n"
     ]
    },
    {
     "name": "stdout",
     "output_type": "stream",
     "text": [
      "Epoch : 4 - loss : 0.0929 - acc: 96.7333% - val_loss : 0.0723 - val_acc: 97.4000%\n"
     ]
    },
    {
     "name": "stderr",
     "output_type": "stream",
     "text": [
      "100%|██████████| 141/141 [01:47<00:00,  1.32it/s]\n",
      "100%|██████████| 16/16 [00:04<00:00,  3.79it/s]\n"
     ]
    },
    {
     "name": "stdout",
     "output_type": "stream",
     "text": [
      "Epoch : 5 - loss : 0.1001 - acc: 96.5556% - val_loss : 0.0755 - val_acc: 97.5000%\n"
     ]
    },
    {
     "name": "stderr",
     "output_type": "stream",
     "text": [
      "100%|██████████| 141/141 [01:47<00:00,  1.32it/s]\n",
      "100%|██████████| 16/16 [00:04<00:00,  3.79it/s]\n"
     ]
    },
    {
     "name": "stdout",
     "output_type": "stream",
     "text": [
      "Epoch : 6 - loss : 0.0595 - acc: 98.0111% - val_loss : 0.0391 - val_acc: 98.6000%\n"
     ]
    },
    {
     "name": "stderr",
     "output_type": "stream",
     "text": [
      "100%|██████████| 141/141 [01:46<00:00,  1.32it/s]\n",
      "100%|██████████| 16/16 [00:04<00:00,  3.79it/s]\n"
     ]
    },
    {
     "name": "stdout",
     "output_type": "stream",
     "text": [
      "Epoch : 7 - loss : 0.0528 - acc: 98.1333% - val_loss : 0.0353 - val_acc: 99.0000%\n"
     ]
    },
    {
     "name": "stderr",
     "output_type": "stream",
     "text": [
      "100%|██████████| 141/141 [01:46<00:00,  1.32it/s]\n",
      "100%|██████████| 16/16 [00:04<00:00,  3.76it/s]\n"
     ]
    },
    {
     "name": "stdout",
     "output_type": "stream",
     "text": [
      "Epoch : 8 - loss : 0.0451 - acc: 98.6111% - val_loss : 0.0620 - val_acc: 97.8000%\n"
     ]
    },
    {
     "name": "stderr",
     "output_type": "stream",
     "text": [
      "100%|██████████| 141/141 [01:46<00:00,  1.32it/s]\n",
      "100%|██████████| 16/16 [00:04<00:00,  3.76it/s]\n"
     ]
    },
    {
     "name": "stdout",
     "output_type": "stream",
     "text": [
      "Epoch : 9 - loss : 0.0481 - acc: 98.4444% - val_loss : 0.0399 - val_acc: 98.5000%\n"
     ]
    },
    {
     "name": "stderr",
     "output_type": "stream",
     "text": [
      "100%|██████████| 141/141 [01:46<00:00,  1.32it/s]\n",
      "100%|██████████| 16/16 [00:04<00:00,  3.72it/s]"
     ]
    },
    {
     "name": "stdout",
     "output_type": "stream",
     "text": [
      "Epoch : 10 - loss : 0.0338 - acc: 99.0000% - val_loss : 0.0500 - val_acc: 97.8000%\n"
     ]
    },
    {
     "name": "stderr",
     "output_type": "stream",
     "text": [
      "\n"
     ]
    }
   ],
   "source": [
    "all_train_loss = []\n",
    "all_test_loss = []\n",
    "all_train_accuracy = []\n",
    "all_test_accuracy = []\n",
    "\n",
    "best_accuracy = 0\n",
    "\n",
    "for epoch in range(epochs):\n",
    "    epoch_loss = 0\n",
    "    epoch_accuracy = 0\n",
    "    correct, total = 0,0\n",
    "    model.train()\n",
    "    tr_loss_epoch = []\n",
    "    test_loss_epoch = []\n",
    "    for data, label in tqdm(lense_train):\n",
    "        data = data.to(device)\n",
    "        label = label.to(device)\n",
    "\n",
    "        output = model(data)\n",
    "        loss = criterion(output, label)\n",
    "        tr_loss_epoch.append(loss.item())\n",
    "        optimizer.zero_grad()\n",
    "        loss.backward()\n",
    "        optimizer.step()\n",
    "        acc = (output.argmax(dim=1) == label).sum()\n",
    "        correct += acc.item()\n",
    "        total+= len(label)\n",
    "        \n",
    "        epoch_loss += loss / len(lense_train)\n",
    "    scheduler.step()\n",
    "    all_train_loss.append(np.asarray(tr_loss_epoch))\n",
    "    all_train_accuracy.append(correct/total*100)\n",
    "    epoch_accuracy = (correct/total)*100\n",
    "    correct, total = 0,0\n",
    "\n",
    "    torch.cuda.empty_cache()\n",
    "    with torch.no_grad():\n",
    "        epoch_val_accuracy = 0\n",
    "        epoch_val_loss = 0\n",
    "        for data, label in tqdm(lense_test):\n",
    "            data = data.to(device)\n",
    "            label = label.to(device)\n",
    "\n",
    "            val_output = model(data)\n",
    "            val_loss = criterion(val_output, label)\n",
    "            test_loss_epoch.append(val_loss.item())\n",
    "            acc = (val_output.argmax(dim=1) == label).sum()\n",
    "            correct += acc.item()\n",
    "            total += len(label)\n",
    "            \n",
    "            epoch_val_loss += val_loss / len(lense_test)\n",
    "        all_test_loss.append(np.asarray(test_loss_epoch))\n",
    "        all_test_accuracy.append(correct/total*100)\n",
    "    epoch_val_accuracy = (correct/total)*100\n",
    "    \n",
    "    if epoch_val_accuracy > best_accuracy:\n",
    "        best_accuracy = epoch_val_accuracy\n",
    "        best_model = copy.deepcopy(model)    \n",
    "    \n",
    "    print(\n",
    "        f\"Epoch : {epoch+1} - loss : {epoch_loss:.4f} - acc: {epoch_accuracy:.4f}% - val_loss : {epoch_val_loss:.4f} - val_acc: {epoch_val_accuracy:.4f}%\"\n",
    "    )\n",
    "torch.save(best_model.state_dict(), 'bestmodel.pth')\n",
    "all_train_loss_mean = [j.mean() for j in all_train_loss]\n",
    "all_test_loss_mean = [j.mean() for j in all_test_loss]"
   ]
  },
  {
   "cell_type": "markdown",
   "id": "c6ed3fe3",
   "metadata": {
    "papermill": {
     "duration": 0.088846,
     "end_time": "2023-02-26T18:39:44.489827",
     "exception": false,
     "start_time": "2023-02-26T18:39:44.400981",
     "status": "completed"
    },
    "tags": []
   },
   "source": [
    "# Plotting Loss and Accuracy"
   ]
  },
  {
   "cell_type": "code",
   "execution_count": 9,
   "id": "63766ee9",
   "metadata": {
    "execution": {
     "iopub.execute_input": "2023-02-26T18:39:44.666078Z",
     "iopub.status.busy": "2023-02-26T18:39:44.665652Z",
     "iopub.status.idle": "2023-02-26T18:39:45.182610Z",
     "shell.execute_reply": "2023-02-26T18:39:45.181640Z"
    },
    "papermill": {
     "duration": 0.608392,
     "end_time": "2023-02-26T18:39:45.185365",
     "exception": false,
     "start_time": "2023-02-26T18:39:44.576973",
     "status": "completed"
    },
    "tags": []
   },
   "outputs": [
    {
     "data": {
      "text/plain": [
       "[<matplotlib.lines.Line2D at 0x7fb00014b390>]"
      ]
     },
     "execution_count": 9,
     "metadata": {},
     "output_type": "execute_result"
    },
    {
     "data": {
      "image/png": "[encoded data removed]",
      "text/plain": [
       "<Figure size 1200x800 with 4 Axes>"
      ]
     },
     "metadata": {},
     "output_type": "display_data"
    }
   ],
   "source": [
    "figure = plt.figure(figsize=(12, 8))\n",
    "cols, rows = 2, 2\n",
    "figure.add_subplot(rows, cols, 1)\n",
    "plt.title('Train loss Mean')\n",
    "plt.plot(all_train_loss_mean)\n",
    "figure.add_subplot(rows, cols, 2)\n",
    "plt.title('Test loss Mean')\n",
    "plt.plot(all_test_loss_mean)\n",
    "figure.add_subplot(rows, cols, 3)\n",
    "plt.title('Train accuracy Mean')\n",
    "plt.plot(all_train_accuracy)\n",
    "figure.add_subplot(rows, cols, 4)\n",
    "plt.title('Test accuracy Mean')\n",
    "plt.plot(all_test_accuracy)"
   ]
  },
  {
   "cell_type": "markdown",
   "id": "71719fa2",
   "metadata": {
    "papermill": {
     "duration": 0.097537,
     "end_time": "2023-02-26T18:39:45.372772",
     "exception": false,
     "start_time": "2023-02-26T18:39:45.275235",
     "status": "completed"
    },
    "tags": []
   },
   "source": [
    "# Loading Best Model"
   ]
  },
  {
   "cell_type": "code",
   "execution_count": 10,
   "id": "d07b2629",
   "metadata": {
    "execution": {
     "iopub.execute_input": "2023-02-26T18:39:45.552649Z",
     "iopub.status.busy": "2023-02-26T18:39:45.552287Z",
     "iopub.status.idle": "2023-02-26T18:39:45.626826Z",
     "shell.execute_reply": "2023-02-26T18:39:45.625849Z"
    },
    "papermill": {
     "duration": 0.167712,
     "end_time": "2023-02-26T18:39:45.629158",
     "exception": false,
     "start_time": "2023-02-26T18:39:45.461446",
     "status": "completed"
    },
    "tags": []
   },
   "outputs": [],
   "source": [
    "model = C8SteerableCNN(2).to(device)\n",
    "model.load_state_dict(torch.load('bestmodel.pth'), strict=False)"
   ]
  },
  {
   "cell_type": "markdown",
   "id": "4e685329",
   "metadata": {
    "papermill": {
     "duration": 0.088101,
     "end_time": "2023-02-26T18:39:45.807045",
     "exception": false,
     "start_time": "2023-02-26T18:39:45.718944",
     "status": "completed"
    },
    "tags": []
   },
   "source": [
    "# Testing"
   ]
  },
  {
   "cell_type": "code",
   "execution_count": 11,
   "id": "99b12bcf",
   "metadata": {
    "execution": {
     "iopub.execute_input": "2023-02-26T18:39:45.985874Z",
     "iopub.status.busy": "2023-02-26T18:39:45.984784Z",
     "iopub.status.idle": "2023-02-26T18:39:50.146762Z",
     "shell.execute_reply": "2023-02-26T18:39:50.144944Z"
    },
    "papermill": {
     "duration": 4.256545,
     "end_time": "2023-02-26T18:39:50.151060",
     "exception": false,
     "start_time": "2023-02-26T18:39:45.894515",
     "status": "completed"
    },
    "tags": []
   },
   "outputs": [
    {
     "name": "stderr",
     "output_type": "stream",
     "text": [
      "100%|██████████| 16/16 [00:04<00:00,  3.86it/s]\n"
     ]
    }
   ],
   "source": [
    "true_label, pred_label, pred_score, one_hot = [], [], [], []\n",
    "with torch.no_grad():\n",
    "    model.eval()\n",
    "    for i, (x, y) in enumerate(tqdm(lense_test)):\n",
    "        x = x.to(device)\n",
    "        y = y.to(device)\n",
    "        _y = model(x)\n",
    "\n",
    "        _, pred = torch.max(_y.data, 1)\n",
    "        true_label += y.tolist()\n",
    "        pred_label += pred.tolist()\n",
    "        pred_score += _y.tolist()\n",
    "        one_hot += np.eye(3)[y.cpu().numpy()].tolist()"
   ]
  },
  {
   "cell_type": "markdown",
   "id": "ddda1893",
   "metadata": {
    "papermill": {
     "duration": 0.138248,
     "end_time": "2023-02-26T18:39:50.468855",
     "exception": false,
     "start_time": "2023-02-26T18:39:50.330607",
     "status": "completed"
    },
    "tags": []
   },
   "source": [
    "# Confusion Matrix"
   ]
  },
  {
   "cell_type": "code",
   "execution_count": 12,
   "id": "063eed06",
   "metadata": {
    "execution": {
     "iopub.execute_input": "2023-02-26T18:39:50.680656Z",
     "iopub.status.busy": "2023-02-26T18:39:50.680254Z",
     "iopub.status.idle": "2023-02-26T18:39:50.971739Z",
     "shell.execute_reply": "2023-02-26T18:39:50.970630Z"
    },
    "papermill": {
     "duration": 0.389642,
     "end_time": "2023-02-26T18:39:50.975049",
     "exception": false,
     "start_time": "2023-02-26T18:39:50.585407",
     "status": "completed"
    },
    "tags": []
   },
   "outputs": [
    {
     "data": {
      "text/plain": [
       "<sklearn.metrics._plot.confusion_matrix.ConfusionMatrixDisplay at 0x7fb015fa5e50>"
      ]
     },
     "execution_count": 12,
     "metadata": {},
     "output_type": "execute_result"
    },
    {
     "data": {
      "image/png": "[encoded data removed]",
      "text/plain": [
       "<Figure size 640x480 with 2 Axes>"
      ]
     },
     "metadata": {},
     "output_type": "display_data"
    }
   ],
   "source": [
    "ConfusionMatrixDisplay(\n",
    "    confusion_matrix=confusion_matrix(true_label, pred_label)\n",
    ").plot()"
   ]
  },
  {
   "cell_type": "markdown",
   "id": "6d00ac58",
   "metadata": {
    "papermill": {
     "duration": 0.144227,
     "end_time": "2023-02-26T18:39:51.259566",
     "exception": false,
     "start_time": "2023-02-26T18:39:51.115339",
     "status": "completed"
    },
    "tags": []
   },
   "source": [
    "# AUC Score"
   ]
  },
  {
   "cell_type": "code",
   "execution_count": 13,
   "id": "13effc9c",
   "metadata": {
    "execution": {
     "iopub.execute_input": "2023-02-26T18:39:51.449086Z",
     "iopub.status.busy": "2023-02-26T18:39:51.447989Z",
     "iopub.status.idle": "2023-02-26T18:39:51.453967Z",
     "shell.execute_reply": "2023-02-26T18:39:51.453043Z"
    },
    "papermill": {
     "duration": 0.100354,
     "end_time": "2023-02-26T18:39:51.456098",
     "exception": false,
     "start_time": "2023-02-26T18:39:51.355744",
     "status": "completed"
    },
    "tags": []
   },
   "outputs": [],
   "source": [
    "def softmax(x):\n",
    "    \"\"\"Compute softmax values for each sets of scores in x.\"\"\"\n",
    "    e_x = np.exp(x - np.max(x))\n",
    "    return e_x / e_x.sum()"
   ]
  },
  {
   "cell_type": "code",
   "execution_count": 14,
   "id": "47a6eea8",
   "metadata": {
    "execution": {
     "iopub.execute_input": "2023-02-26T18:39:51.639612Z",
     "iopub.status.busy": "2023-02-26T18:39:51.639252Z",
     "iopub.status.idle": "2023-02-26T18:39:51.650971Z",
     "shell.execute_reply": "2023-02-26T18:39:51.649868Z"
    },
    "papermill": {
     "duration": 0.105775,
     "end_time": "2023-02-26T18:39:51.653525",
     "exception": false,
     "start_time": "2023-02-26T18:39:51.547750",
     "status": "completed"
    },
    "tags": []
   },
   "outputs": [
    {
     "data": {
      "text/plain": [
       "0.9857433808553971"
      ]
     },
     "execution_count": 14,
     "metadata": {},
     "output_type": "execute_result"
    }
   ],
   "source": [
    "roc_auc_score(np.array(true_label),np.array(pred_label))"
   ]
  },
  {
   "cell_type": "markdown",
   "id": "1bccb6bc",
   "metadata": {
    "papermill": {
     "duration": 0.089421,
     "end_time": "2023-02-26T18:39:51.834655",
     "exception": false,
     "start_time": "2023-02-26T18:39:51.745234",
     "status": "completed"
    },
    "tags": []
   },
   "source": [
    "# ROC-CURVE"
   ]
  },
  {
   "cell_type": "code",
   "execution_count": 15,
   "id": "0396ebf0",
   "metadata": {
    "execution": {
     "iopub.execute_input": "2023-02-26T18:39:52.014810Z",
     "iopub.status.busy": "2023-02-26T18:39:52.014426Z",
     "iopub.status.idle": "2023-02-26T18:39:52.234755Z",
     "shell.execute_reply": "2023-02-26T18:39:52.233678Z"
    },
    "papermill": {
     "duration": 0.313634,
     "end_time": "2023-02-26T18:39:52.237506",
     "exception": false,
     "start_time": "2023-02-26T18:39:51.923872",
     "status": "completed"
    },
    "tags": []
   },
   "outputs": [
    {
     "data": {
      "image/png": "[encoded data removed]",
      "text/plain": [
       "<Figure size 640x480 with 1 Axes>"
      ]
     },
     "metadata": {},
     "output_type": "display_data"
    }
   ],
   "source": [
    "fpr = dict()\n",
    "tpr = dict()\n",
    "roc_auc = dict()\n",
    "lw=2\n",
    "for i in range(2):\n",
    "    fpr[i], tpr[i], _ = roc_curve(np.array(one_hot)[:, i], np.array(pred_score)[:, i])\n",
    "    roc_auc[i] = auc(fpr[i], tpr[i])\n",
    "colors = cycle(['blue', 'red', 'green'])\n",
    "for i, color in zip(range(2), colors):\n",
    "    plt.plot(fpr[i], tpr[i], color=color, lw=2,\n",
    "             label='ROC curve of class {0} (area = {1:0.6f})'\n",
    "             ''.format(i, roc_auc[i]))\n",
    "plt.plot([0, 1], [0, 1], 'k--', lw=lw)\n",
    "plt.xlim([-0.05, 1.0])\n",
    "plt.ylim([0.0, 1.05])\n",
    "plt.xlabel('False Positive Rate')\n",
    "plt.ylabel('True Positive Rate')\n",
    "plt.title('Receiver operating characteristic for multi-class data')\n",
    "plt.legend(loc=\"lower right\")\n",
    "plt.show()"
   ]
  }
 ],
 "metadata": {
  "kernelspec": {
   "display_name": "Python 3",
   "language": "python",
   "name": "python3"
  },
  "language_info": {
   "codemirror_mode": {
    "name": "ipython",
    "version": 3
   },
   "file_extension": ".py",
   "mimetype": "text/x-python",
   "name": "python",
   "nbconvert_exporter": "python",
   "pygments_lexer": "ipython3",
   "version": "3.10.6"
  },
  "papermill": {
   "default_parameters": {},
   "duration": 1183.333041,
   "end_time": "2023-02-26T18:39:54.458046",
   "environment_variables": {},
   "exception": null,
   "input_path": "__notebook__.ipynb",
   "output_path": "__notebook__.ipynb",
   "parameters": {},
   "start_time": "2023-02-26T18:20:11.125005",
   "version": "2.4.0"
  },
  "vscode": {
   "interpreter": {
    "hash": "916dbcbb3f70747c44a77c7bcd40155683ae19c65e1c03b4aa3499c5328201f1"
   }
  }
 },
 "nbformat": 4,
 "nbformat_minor": 5
}
