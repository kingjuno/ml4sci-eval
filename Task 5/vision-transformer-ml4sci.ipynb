{
 "cells": [
  {
   "cell_type": "code",
   "execution_count": 1,
   "id": "6e22327b",
   "metadata": {
    "execution": {
     "iopub.execute_input": "2023-02-27T07:41:29.440319Z",
     "iopub.status.busy": "2023-02-27T07:41:29.439442Z",
     "iopub.status.idle": "2023-02-27T07:41:56.022519Z",
     "shell.execute_reply": "2023-02-27T07:41:56.021243Z"
    },
    "papermill": {
     "duration": 26.592532,
     "end_time": "2023-02-27T07:41:56.025201",
     "exception": false,
     "start_time": "2023-02-27T07:41:29.432669",
     "status": "completed"
    },
    "tags": []
   },
   "outputs": [
    {
     "name": "stdout",
     "output_type": "stream",
     "text": [
      "\u001b[33mWARNING: Running pip as the 'root' user can result in broken permissions and conflicting behaviour with the system package manager. It is recommended to use a virtual environment instead: https://pip.pypa.io/warnings/venv\u001b[0m\u001b[33m\r\n",
      "\u001b[0m\u001b[33mWARNING: Running pip as the 'root' user can result in broken permissions and conflicting behaviour with the system package manager. It is recommended to use a virtual environment instead: https://pip.pypa.io/warnings/venv\u001b[0m\u001b[33m\r\n",
      "\u001b[0m"
     ]
    }
   ],
   "source": [
    "try:\n",
    "    import einops\n",
    "except:\n",
    "    !pip install -q einops\n",
    "    !pip install -q vit_pytorch\n",
    "    !mkdir lenses\n",
    "    !tar -zxf /kaggle/input/multiclass-classification/lenses.tgz"
   ]
  },
  {
   "cell_type": "markdown",
   "id": "ed7ccdda",
   "metadata": {
    "papermill": {
     "duration": 0.004101,
     "end_time": "2023-02-27T07:41:56.034161",
     "exception": false,
     "start_time": "2023-02-27T07:41:56.030060",
     "status": "completed"
    },
    "tags": []
   },
   "source": [
    "**Specific Test V. Exploring Transformers**\n",
    "\n",
    "**Task:** Use a vision transformer method of your choice to build a robust and efficient model for binary classification or unsupervised anomaly detection on the provided dataset. In the case of unsupervised anomaly detection, train your model to learn the distribution of the provided strong lensing images with no substructure. Please implement your approach in PyTorch or Keras and discuss your strategy.\n",
    "\n",
    "\n",
    "**Dataset Description:** A set of simulated strong gravitational lensing images with and without substructure.\n",
    "\n",
    "**Evaluation Metrics:** ROC curve (Receiver Operating Characteristic curve) and AUC score (Area Under the ROC Curve)\n"
   ]
  },
  {
   "cell_type": "code",
   "execution_count": 2,
   "id": "fb961fd6",
   "metadata": {
    "execution": {
     "iopub.execute_input": "2023-02-27T07:41:56.044578Z",
     "iopub.status.busy": "2023-02-27T07:41:56.043712Z",
     "iopub.status.idle": "2023-02-27T07:41:59.288627Z",
     "shell.execute_reply": "2023-02-27T07:41:59.287584Z"
    },
    "papermill": {
     "duration": 3.252828,
     "end_time": "2023-02-27T07:41:59.291151",
     "exception": false,
     "start_time": "2023-02-27T07:41:56.038323",
     "status": "completed"
    },
    "tags": []
   },
   "outputs": [],
   "source": [
    "import copy\n",
    "import warnings\n",
    "\n",
    "import matplotlib.pyplot as plt\n",
    "import numpy as np\n",
    "import pandas as pd\n",
    "import torch\n",
    "import torch.nn.functional as F\n",
    "import torch.optim as optim\n",
    "import torchvision\n",
    "import torchvision.datasets as datasets\n",
    "import torchvision.transforms as transforms\n",
    "\n",
    "from itertools import cycle\n",
    "from PIL import Image\n",
    "from skimage import io, transform\n",
    "from sklearn.metrics import auc, confusion_matrix, ConfusionMatrixDisplay, roc_auc_score, roc_curve\n",
    "from torch import optim\n",
    "from torch.utils.data import DataLoader, Dataset, SubsetRandomSampler\n",
    "from torchvision import transforms, utils\n",
    "from torchvision.transforms import (Compose, Pad, RandomRotation, Resize,\n",
    "                                    ToTensor)\n",
    "\n",
    "from tqdm import tqdm\n",
    "\n",
    "warnings.filterwarnings('ignore')"
   ]
  },
  {
   "cell_type": "markdown",
   "id": "0b42806c",
   "metadata": {
    "papermill": {
     "duration": 0.009349,
     "end_time": "2023-02-27T07:41:59.306629",
     "exception": false,
     "start_time": "2023-02-27T07:41:59.297280",
     "status": "completed"
    },
    "tags": []
   },
   "source": [
    "# Data Preparation"
   ]
  },
  {
   "cell_type": "code",
   "execution_count": 3,
   "id": "da4a08e4",
   "metadata": {
    "execution": {
     "iopub.execute_input": "2023-02-27T07:41:59.318222Z",
     "iopub.status.busy": "2023-02-27T07:41:59.317653Z",
     "iopub.status.idle": "2023-02-27T07:41:59.328491Z",
     "shell.execute_reply": "2023-02-27T07:41:59.327500Z"
    },
    "papermill": {
     "duration": 0.018841,
     "end_time": "2023-02-27T07:41:59.330468",
     "exception": false,
     "start_time": "2023-02-27T07:41:59.311627",
     "status": "completed"
    },
    "tags": []
   },
   "outputs": [],
   "source": [
    "def get_train_valid_loader(\n",
    "    data_dir,\n",
    "    batch_size,\n",
    "    random_seed,\n",
    "    valid_size=0.1,\n",
    "    shuffle=True,\n",
    "    num_workers=2,\n",
    "    pin_memory=False,\n",
    "):\n",
    "\n",
    "    valid_transform = transforms.Compose(\n",
    "        [\n",
    "            transforms.RandomCrop(128),\n",
    "            transforms.Grayscale(num_output_channels=1),\n",
    "            transforms.ToTensor(),\n",
    "        ]\n",
    "    )\n",
    "\n",
    "    train_transform = transforms.Compose(\n",
    "        [\n",
    "            transforms.RandomRotation(30),\n",
    "            transforms.RandomCrop(128),\n",
    "            transforms.Resize(256),\n",
    "            transforms.RandomRotation(180),\n",
    "            transforms.ColorJitter(brightness=(0.8, 1.2)),\n",
    "            transforms.Resize(128),\n",
    "            transforms.Grayscale(num_output_channels=1),\n",
    "            transforms.ToTensor(),\n",
    "        ]\n",
    "    )\n",
    "\n",
    "    # load the dataset\n",
    "    train_dataset = datasets.ImageFolder(\n",
    "        root=data_dir,\n",
    "        transform=train_transform,\n",
    "    )\n",
    "\n",
    "    valid_dataset = datasets.ImageFolder(\n",
    "        root=data_dir,\n",
    "        transform=valid_transform,\n",
    "    )\n",
    "\n",
    "    num_train = len(train_dataset)\n",
    "    indices = list(range(num_train))\n",
    "    split = int(np.floor(valid_size * num_train))\n",
    "\n",
    "    if shuffle:\n",
    "        np.random.seed(random_seed)\n",
    "        np.random.shuffle(indices)\n",
    "\n",
    "    train_idx, valid_idx = indices[split:], indices[:split]\n",
    "    train_sampler = SubsetRandomSampler(train_idx)\n",
    "    valid_sampler = SubsetRandomSampler(valid_idx)\n",
    "\n",
    "    train_loader = torch.utils.data.DataLoader(\n",
    "        train_dataset,\n",
    "        batch_size=batch_size,\n",
    "        sampler=train_sampler,\n",
    "        num_workers=num_workers,\n",
    "        pin_memory=pin_memory,\n",
    "    )\n",
    "    valid_loader = torch.utils.data.DataLoader(\n",
    "        valid_dataset,\n",
    "        batch_size=batch_size,\n",
    "        sampler=valid_sampler,\n",
    "        num_workers=num_workers,\n",
    "        pin_memory=pin_memory,\n",
    "    )\n",
    "\n",
    "    return (train_loader, valid_loader)"
   ]
  },
  {
   "cell_type": "code",
   "execution_count": 4,
   "id": "e9ab489c",
   "metadata": {
    "execution": {
     "iopub.execute_input": "2023-02-27T07:41:59.341348Z",
     "iopub.status.busy": "2023-02-27T07:41:59.340507Z",
     "iopub.status.idle": "2023-02-27T07:41:59.487016Z",
     "shell.execute_reply": "2023-02-27T07:41:59.485946Z"
    },
    "papermill": {
     "duration": 0.154523,
     "end_time": "2023-02-27T07:41:59.489648",
     "exception": false,
     "start_time": "2023-02-27T07:41:59.335125",
     "status": "completed"
    },
    "tags": []
   },
   "outputs": [],
   "source": [
    "seed = 42\n",
    "lr = 0.0001\n",
    "gamma = 0.7\n",
    "epochs = 100\n",
    "batch_size = 64\n",
    "device = 'cuda' if torch.cuda.is_available() else 'cpu'\n",
    "lense_train, lense_test = get_train_valid_loader('/kaggle/working/lenses/', batch_size, 40, 0.1)"
   ]
  },
  {
   "cell_type": "markdown",
   "id": "b35b19b8",
   "metadata": {
    "papermill": {
     "duration": 0.00464,
     "end_time": "2023-02-27T07:41:59.499706",
     "exception": false,
     "start_time": "2023-02-27T07:41:59.495066",
     "status": "completed"
    },
    "tags": []
   },
   "source": [
    "# Model\n",
    "\n",
    "CvT (https://github.com/lucidrains/vit-pytorch/blob/main/vit_pytorch/cvt.py) implementation by Phil Wang with slight modifications to use with this dataset"
   ]
  },
  {
   "cell_type": "code",
   "execution_count": 5,
   "id": "16916611",
   "metadata": {
    "execution": {
     "iopub.execute_input": "2023-02-27T07:41:59.510450Z",
     "iopub.status.busy": "2023-02-27T07:41:59.510147Z",
     "iopub.status.idle": "2023-02-27T07:41:59.544582Z",
     "shell.execute_reply": "2023-02-27T07:41:59.543661Z"
    },
    "papermill": {
     "duration": 0.042221,
     "end_time": "2023-02-27T07:41:59.546583",
     "exception": false,
     "start_time": "2023-02-27T07:41:59.504362",
     "status": "completed"
    },
    "tags": []
   },
   "outputs": [],
   "source": [
    "import torch\n",
    "from torch import nn, einsum\n",
    "import torch.nn.functional as F\n",
    "\n",
    "from einops import rearrange, repeat\n",
    "from einops.layers.torch import Rearrange\n",
    "\n",
    "def group_dict_by_key(cond, d):\n",
    "    return_val = [dict(), dict()]\n",
    "    for key in d.keys():\n",
    "        match = bool(cond(key))\n",
    "        ind = int(not match)\n",
    "        return_val[ind][key] = d[key]\n",
    "    return (*return_val,)\n",
    "\n",
    "def group_by_key_prefix_and_remove_prefix(prefix, d):\n",
    "    kwargs_with_prefix, kwargs = group_dict_by_key(lambda x: x.startswith(prefix), d)\n",
    "    kwargs_without_prefix = dict(map(lambda x: (x[0][len(prefix):], x[1]), tuple(kwargs_with_prefix.items())))\n",
    "    return kwargs_without_prefix, kwargs\n",
    "\n",
    "class LayerNorm(nn.Module): # layernorm, but done in the channel dimension #1\n",
    "    def __init__(self, dim, eps = 1e-5):\n",
    "        super().__init__()\n",
    "        self.eps = eps\n",
    "        self.g = nn.Parameter(torch.ones(1, dim, 1, 1))\n",
    "        self.b = nn.Parameter(torch.zeros(1, dim, 1, 1))\n",
    "\n",
    "    def forward(self, x):\n",
    "        var = torch.var(x, dim = 1, unbiased = False, keepdim = True)\n",
    "        mean = torch.mean(x, dim = 1, keepdim = True)\n",
    "        return (x - mean) / (var + self.eps).sqrt() * self.g + self.b\n",
    "\n",
    "class PreNorm(nn.Module):\n",
    "    def __init__(self, dim, fn):\n",
    "        super().__init__()\n",
    "        self.norm = LayerNorm(dim)\n",
    "        self.fn = fn\n",
    "    def forward(self, x, **kwargs):\n",
    "        x = self.norm(x)\n",
    "        return self.fn(x, **kwargs)\n",
    "\n",
    "class FeedForward(nn.Module):\n",
    "    def __init__(self, dim, mult = 4, dropout = 0.):\n",
    "        super().__init__()\n",
    "        self.net = nn.Sequential(\n",
    "            nn.Conv2d(dim, dim * mult, 1),\n",
    "            nn.GELU(),\n",
    "            nn.Dropout(dropout),\n",
    "            nn.Conv2d(dim * mult, dim, 1),\n",
    "            nn.Dropout(dropout)\n",
    "        )\n",
    "    def forward(self, x):\n",
    "        return self.net(x)\n",
    "\n",
    "class DepthWiseConv2d(nn.Module):\n",
    "    def __init__(self, dim_in, dim_out, kernel_size, padding, stride, bias = True):\n",
    "        super().__init__()\n",
    "        self.net = nn.Sequential(\n",
    "            nn.Conv2d(dim_in, dim_in, kernel_size = kernel_size, padding = padding, groups = dim_in, stride = stride, bias = bias),\n",
    "            nn.BatchNorm2d(dim_in),\n",
    "            nn.Conv2d(dim_in, dim_out, kernel_size = 1, bias = bias)\n",
    "        )\n",
    "    def forward(self, x):\n",
    "        return self.net(x)\n",
    "\n",
    "class Attention(nn.Module):\n",
    "    def __init__(self, dim, proj_kernel, kv_proj_stride, heads = 8, dim_head = 64, dropout = 0.):\n",
    "        super().__init__()\n",
    "        inner_dim = dim_head *  heads\n",
    "        padding = proj_kernel // 2\n",
    "        self.heads = heads\n",
    "        self.scale = dim_head ** -0.5\n",
    "\n",
    "        self.attend = nn.Softmax(dim = -1)\n",
    "        self.dropout = nn.Dropout(dropout)\n",
    "\n",
    "        self.to_q = DepthWiseConv2d(dim, inner_dim, proj_kernel, padding = padding, stride = 1, bias = False)\n",
    "        self.to_kv = DepthWiseConv2d(dim, inner_dim * 2, proj_kernel, padding = padding, stride = kv_proj_stride, bias = False)\n",
    "\n",
    "        self.to_out = nn.Sequential(\n",
    "            nn.Conv2d(inner_dim, dim, 1),\n",
    "            nn.Dropout(dropout)\n",
    "        )\n",
    "\n",
    "    def forward(self, x):\n",
    "        shape = x.shape\n",
    "        b, n, _, y, h = *shape, self.heads\n",
    "        q, k, v = (self.to_q(x), *self.to_kv(x).chunk(2, dim = 1))\n",
    "        q, k, v = map(lambda t: rearrange(t, 'b (h d) x y -> (b h) (x y) d', h = h), (q, k, v))\n",
    "\n",
    "        dots = einsum('b i d, b j d -> b i j', q, k) * self.scale\n",
    "\n",
    "        attn = self.attend(dots)\n",
    "        attn = self.dropout(attn)\n",
    "\n",
    "        out = einsum('b i j, b j d -> b i d', attn, v)\n",
    "        out = rearrange(out, '(b h) (x y) d -> b (h d) x y', h = h, y = y)\n",
    "        return self.to_out(out)\n",
    "\n",
    "class Transformer(nn.Module):\n",
    "    def __init__(self, dim, proj_kernel, kv_proj_stride, depth, heads, dim_head = 64, mlp_mult = 4, dropout = 0.):\n",
    "        super().__init__()\n",
    "        self.layers = nn.ModuleList([])\n",
    "        for _ in range(depth):\n",
    "            self.layers.append(nn.ModuleList([\n",
    "                PreNorm(dim, Attention(dim, proj_kernel = proj_kernel, kv_proj_stride = kv_proj_stride, heads = heads, dim_head = dim_head, dropout = dropout)),\n",
    "                PreNorm(dim, FeedForward(dim, mlp_mult, dropout = dropout))\n",
    "            ]))\n",
    "    def forward(self, x):\n",
    "        for attn, ff in self.layers:\n",
    "            x = attn(x) + x\n",
    "            x = ff(x) + x\n",
    "        return x\n",
    "\n",
    "class CvT(nn.Module):\n",
    "    def __init__(\n",
    "        self,\n",
    "        *,\n",
    "        num_classes,\n",
    "        s1_emb_dim = 64,\n",
    "        s1_emb_kernel = 7,\n",
    "        s1_emb_stride = 4,\n",
    "        s1_proj_kernel = 3,\n",
    "        s1_kv_proj_stride = 2,\n",
    "        s1_heads = 1,\n",
    "        s1_depth = 1,\n",
    "        s1_mlp_mult = 4,\n",
    "        s2_emb_dim = 192,\n",
    "        s2_emb_kernel = 3,\n",
    "        s2_emb_stride = 2,\n",
    "        s2_proj_kernel = 3,\n",
    "        s2_kv_proj_stride = 2,\n",
    "        s2_heads = 3,\n",
    "        s2_depth = 2,\n",
    "        s2_mlp_mult = 4,\n",
    "        s3_emb_dim = 384,\n",
    "        s3_emb_kernel = 3,\n",
    "        s3_emb_stride = 2,\n",
    "        s3_proj_kernel = 3,\n",
    "        s3_kv_proj_stride = 2,\n",
    "        s3_heads = 6,\n",
    "        s3_depth = 10,\n",
    "        s3_mlp_mult = 4,\n",
    "        dropout = 0.\n",
    "    ):\n",
    "        super().__init__()\n",
    "        kwargs = dict(locals())\n",
    "\n",
    "        dim = 1\n",
    "        layers = []\n",
    "\n",
    "        for prefix in ('s1', 's2', 's3'):\n",
    "            config, kwargs = group_by_key_prefix_and_remove_prefix(f'{prefix}_', kwargs)\n",
    "\n",
    "            layers.append(nn.Sequential(\n",
    "                nn.Conv2d(dim, config['emb_dim'], kernel_size = config['emb_kernel'], padding = (config['emb_kernel'] // 2), stride = config['emb_stride']),\n",
    "                LayerNorm(config['emb_dim']),\n",
    "                Transformer(dim = config['emb_dim'], proj_kernel = config['proj_kernel'], kv_proj_stride = config['kv_proj_stride'], depth = config['depth'], heads = config['heads'], mlp_mult = config['mlp_mult'], dropout = dropout)\n",
    "            ))\n",
    "\n",
    "            dim = config['emb_dim']\n",
    "\n",
    "        self.layers = nn.Sequential(*layers)\n",
    "\n",
    "        self.to_logits = nn.Sequential(\n",
    "            nn.AdaptiveAvgPool2d(1),\n",
    "            Rearrange('... () () -> ...'),\n",
    "            nn.Linear(dim, num_classes)\n",
    "        )\n",
    "\n",
    "    def forward(self, x):\n",
    "        latents = self.layers(x)\n",
    "        return self.to_logits(latents)"
   ]
  },
  {
   "cell_type": "code",
   "execution_count": 6,
   "id": "6f68b870",
   "metadata": {
    "execution": {
     "iopub.execute_input": "2023-02-27T07:41:59.556785Z",
     "iopub.status.busy": "2023-02-27T07:41:59.556501Z",
     "iopub.status.idle": "2023-02-27T07:42:02.652343Z",
     "shell.execute_reply": "2023-02-27T07:42:02.651354Z"
    },
    "papermill": {
     "duration": 3.103543,
     "end_time": "2023-02-27T07:42:02.654739",
     "exception": false,
     "start_time": "2023-02-27T07:41:59.551196",
     "status": "completed"
    },
    "tags": []
   },
   "outputs": [],
   "source": [
    "model = CvT(\n",
    "    num_classes = 2,\n",
    "    dropout = 0.1\n",
    ").to(device)"
   ]
  },
  {
   "cell_type": "code",
   "execution_count": 7,
   "id": "a3052977",
   "metadata": {
    "execution": {
     "iopub.execute_input": "2023-02-27T07:42:02.665784Z",
     "iopub.status.busy": "2023-02-27T07:42:02.665471Z",
     "iopub.status.idle": "2023-02-27T07:42:02.672160Z",
     "shell.execute_reply": "2023-02-27T07:42:02.671139Z"
    },
    "papermill": {
     "duration": 0.014554,
     "end_time": "2023-02-27T07:42:02.674331",
     "exception": false,
     "start_time": "2023-02-27T07:42:02.659777",
     "status": "completed"
    },
    "tags": []
   },
   "outputs": [],
   "source": [
    "criterion = nn.CrossEntropyLoss()\n",
    "optimizer = optim.Adam(model.parameters(), lr=lr)\n",
    "scheduler = optim.lr_scheduler.StepLR(optimizer, step_size=10, gamma=0.5)"
   ]
  },
  {
   "cell_type": "markdown",
   "id": "cf128b8a",
   "metadata": {
    "papermill": {
     "duration": 0.004512,
     "end_time": "2023-02-27T07:42:02.683309",
     "exception": false,
     "start_time": "2023-02-27T07:42:02.678797",
     "status": "completed"
    },
    "tags": []
   },
   "source": [
    "# Training"
   ]
  },
  {
   "cell_type": "code",
   "execution_count": 8,
   "id": "2043fa96",
   "metadata": {
    "execution": {
     "iopub.execute_input": "2023-02-27T07:42:02.694127Z",
     "iopub.status.busy": "2023-02-27T07:42:02.693814Z",
     "iopub.status.idle": "2023-02-27T08:45:29.775703Z",
     "shell.execute_reply": "2023-02-27T08:45:29.773834Z"
    },
    "papermill": {
     "duration": 3807.090898,
     "end_time": "2023-02-27T08:45:29.778798",
     "exception": false,
     "start_time": "2023-02-27T07:42:02.687900",
     "status": "completed"
    },
    "tags": []
   },
   "outputs": [
    {
     "name": "stderr",
     "output_type": "stream",
     "text": [
      "100%|██████████| 141/141 [00:41<00:00,  3.39it/s]\n",
      "100%|██████████| 16/16 [00:01<00:00, 12.35it/s]\n"
     ]
    },
    {
     "name": "stdout",
     "output_type": "stream",
     "text": [
      "Epoch : 1 - loss : 0.7474 - acc: 57.5556% - val_loss : 0.5838 - val_acc: 65.7000%\n"
     ]
    },
    {
     "name": "stderr",
     "output_type": "stream",
     "text": [
      "100%|██████████| 141/141 [00:37<00:00,  3.80it/s]\n",
      "100%|██████████| 16/16 [00:01<00:00, 12.11it/s]\n"
     ]
    },
    {
     "name": "stdout",
     "output_type": "stream",
     "text": [
      "Epoch : 2 - loss : 0.5319 - acc: 69.6444% - val_loss : 0.4612 - val_acc: 74.3000%\n"
     ]
    },
    {
     "name": "stderr",
     "output_type": "stream",
     "text": [
      "100%|██████████| 141/141 [00:35<00:00,  3.93it/s]\n",
      "100%|██████████| 16/16 [00:01<00:00, 12.09it/s]\n"
     ]
    },
    {
     "name": "stdout",
     "output_type": "stream",
     "text": [
      "Epoch : 3 - loss : 0.4328 - acc: 76.1889% - val_loss : 0.3483 - val_acc: 80.3000%\n"
     ]
    },
    {
     "name": "stderr",
     "output_type": "stream",
     "text": [
      "100%|██████████| 141/141 [00:35<00:00,  3.93it/s]\n",
      "100%|██████████| 16/16 [00:01<00:00, 12.25it/s]\n"
     ]
    },
    {
     "name": "stdout",
     "output_type": "stream",
     "text": [
      "Epoch : 4 - loss : 0.3721 - acc: 80.0556% - val_loss : 0.4132 - val_acc: 78.8000%\n"
     ]
    },
    {
     "name": "stderr",
     "output_type": "stream",
     "text": [
      "100%|██████████| 141/141 [00:36<00:00,  3.90it/s]\n",
      "100%|██████████| 16/16 [00:01<00:00, 12.35it/s]\n"
     ]
    },
    {
     "name": "stdout",
     "output_type": "stream",
     "text": [
      "Epoch : 5 - loss : 0.3251 - acc: 83.3889% - val_loss : 0.2633 - val_acc: 86.6000%\n"
     ]
    },
    {
     "name": "stderr",
     "output_type": "stream",
     "text": [
      "100%|██████████| 141/141 [00:36<00:00,  3.90it/s]\n",
      "100%|██████████| 16/16 [00:01<00:00, 12.36it/s]\n"
     ]
    },
    {
     "name": "stdout",
     "output_type": "stream",
     "text": [
      "Epoch : 6 - loss : 0.2794 - acc: 86.1222% - val_loss : 0.2712 - val_acc: 87.4000%\n"
     ]
    },
    {
     "name": "stderr",
     "output_type": "stream",
     "text": [
      "100%|██████████| 141/141 [00:36<00:00,  3.86it/s]\n",
      "100%|██████████| 16/16 [00:01<00:00, 10.95it/s]\n"
     ]
    },
    {
     "name": "stdout",
     "output_type": "stream",
     "text": [
      "Epoch : 7 - loss : 0.2575 - acc: 87.7000% - val_loss : 0.2219 - val_acc: 87.6000%\n"
     ]
    },
    {
     "name": "stderr",
     "output_type": "stream",
     "text": [
      "100%|██████████| 141/141 [00:36<00:00,  3.87it/s]\n",
      "100%|██████████| 16/16 [00:01<00:00, 11.89it/s]\n"
     ]
    },
    {
     "name": "stdout",
     "output_type": "stream",
     "text": [
      "Epoch : 8 - loss : 0.2283 - acc: 88.8333% - val_loss : 0.1868 - val_acc: 91.4000%\n"
     ]
    },
    {
     "name": "stderr",
     "output_type": "stream",
     "text": [
      "100%|██████████| 141/141 [00:37<00:00,  3.80it/s]\n",
      "100%|██████████| 16/16 [00:01<00:00, 12.23it/s]\n"
     ]
    },
    {
     "name": "stdout",
     "output_type": "stream",
     "text": [
      "Epoch : 9 - loss : 0.2209 - acc: 89.5111% - val_loss : 0.2215 - val_acc: 88.5000%\n"
     ]
    },
    {
     "name": "stderr",
     "output_type": "stream",
     "text": [
      "100%|██████████| 141/141 [00:36<00:00,  3.82it/s]\n",
      "100%|██████████| 16/16 [00:01<00:00, 12.13it/s]\n"
     ]
    },
    {
     "name": "stdout",
     "output_type": "stream",
     "text": [
      "Epoch : 10 - loss : 0.2110 - acc: 90.3556% - val_loss : 0.2101 - val_acc: 90.6000%\n"
     ]
    },
    {
     "name": "stderr",
     "output_type": "stream",
     "text": [
      "100%|██████████| 141/141 [00:37<00:00,  3.80it/s]\n",
      "100%|██████████| 16/16 [00:01<00:00, 11.92it/s]\n"
     ]
    },
    {
     "name": "stdout",
     "output_type": "stream",
     "text": [
      "Epoch : 11 - loss : 0.1646 - acc: 92.3000% - val_loss : 0.1664 - val_acc: 92.7000%\n"
     ]
    },
    {
     "name": "stderr",
     "output_type": "stream",
     "text": [
      "100%|██████████| 141/141 [00:36<00:00,  3.89it/s]\n",
      "100%|██████████| 16/16 [00:01<00:00,  9.27it/s]\n"
     ]
    },
    {
     "name": "stdout",
     "output_type": "stream",
     "text": [
      "Epoch : 12 - loss : 0.1535 - acc: 93.1111% - val_loss : 0.1204 - val_acc: 95.5000%\n"
     ]
    },
    {
     "name": "stderr",
     "output_type": "stream",
     "text": [
      "100%|██████████| 141/141 [00:37<00:00,  3.76it/s]\n",
      "100%|██████████| 16/16 [00:01<00:00, 12.16it/s]\n"
     ]
    },
    {
     "name": "stdout",
     "output_type": "stream",
     "text": [
      "Epoch : 13 - loss : 0.1506 - acc: 93.3444% - val_loss : 0.1364 - val_acc: 93.8000%\n"
     ]
    },
    {
     "name": "stderr",
     "output_type": "stream",
     "text": [
      "100%|██████████| 141/141 [00:37<00:00,  3.77it/s]\n",
      "100%|██████████| 16/16 [00:01<00:00, 12.21it/s]\n"
     ]
    },
    {
     "name": "stdout",
     "output_type": "stream",
     "text": [
      "Epoch : 14 - loss : 0.1489 - acc: 93.0333% - val_loss : 0.1403 - val_acc: 93.4000%\n"
     ]
    },
    {
     "name": "stderr",
     "output_type": "stream",
     "text": [
      "100%|██████████| 141/141 [00:37<00:00,  3.81it/s]\n",
      "100%|██████████| 16/16 [00:01<00:00, 12.07it/s]\n"
     ]
    },
    {
     "name": "stdout",
     "output_type": "stream",
     "text": [
      "Epoch : 15 - loss : 0.1406 - acc: 93.6778% - val_loss : 0.1287 - val_acc: 94.4000%\n"
     ]
    },
    {
     "name": "stderr",
     "output_type": "stream",
     "text": [
      "100%|██████████| 141/141 [00:37<00:00,  3.81it/s]\n",
      "100%|██████████| 16/16 [00:01<00:00, 12.21it/s]\n"
     ]
    },
    {
     "name": "stdout",
     "output_type": "stream",
     "text": [
      "Epoch : 16 - loss : 0.1309 - acc: 94.1111% - val_loss : 0.1380 - val_acc: 94.2000%\n"
     ]
    },
    {
     "name": "stderr",
     "output_type": "stream",
     "text": [
      "100%|██████████| 141/141 [00:36<00:00,  3.91it/s]\n",
      "100%|██████████| 16/16 [00:01<00:00, 10.31it/s]\n"
     ]
    },
    {
     "name": "stdout",
     "output_type": "stream",
     "text": [
      "Epoch : 17 - loss : 0.1355 - acc: 94.0667% - val_loss : 0.1091 - val_acc: 95.2000%\n"
     ]
    },
    {
     "name": "stderr",
     "output_type": "stream",
     "text": [
      "100%|██████████| 141/141 [00:36<00:00,  3.86it/s]\n",
      "100%|██████████| 16/16 [00:01<00:00, 12.12it/s]\n"
     ]
    },
    {
     "name": "stdout",
     "output_type": "stream",
     "text": [
      "Epoch : 18 - loss : 0.1289 - acc: 94.4444% - val_loss : 0.1070 - val_acc: 95.5000%\n"
     ]
    },
    {
     "name": "stderr",
     "output_type": "stream",
     "text": [
      "100%|██████████| 141/141 [00:36<00:00,  3.82it/s]\n",
      "100%|██████████| 16/16 [00:01<00:00, 12.32it/s]\n"
     ]
    },
    {
     "name": "stdout",
     "output_type": "stream",
     "text": [
      "Epoch : 19 - loss : 0.1203 - acc: 94.8222% - val_loss : 0.1335 - val_acc: 95.0000%\n"
     ]
    },
    {
     "name": "stderr",
     "output_type": "stream",
     "text": [
      "100%|██████████| 141/141 [00:35<00:00,  3.93it/s]\n",
      "100%|██████████| 16/16 [00:01<00:00, 11.98it/s]\n"
     ]
    },
    {
     "name": "stdout",
     "output_type": "stream",
     "text": [
      "Epoch : 20 - loss : 0.1197 - acc: 94.8222% - val_loss : 0.0860 - val_acc: 97.0000%\n"
     ]
    },
    {
     "name": "stderr",
     "output_type": "stream",
     "text": [
      "100%|██████████| 141/141 [00:36<00:00,  3.85it/s]\n",
      "100%|██████████| 16/16 [00:01<00:00, 12.17it/s]\n"
     ]
    },
    {
     "name": "stdout",
     "output_type": "stream",
     "text": [
      "Epoch : 21 - loss : 0.1005 - acc: 95.6222% - val_loss : 0.1242 - val_acc: 94.8000%\n"
     ]
    },
    {
     "name": "stderr",
     "output_type": "stream",
     "text": [
      "100%|██████████| 141/141 [00:36<00:00,  3.90it/s]\n",
      "100%|██████████| 16/16 [00:01<00:00, 12.19it/s]\n"
     ]
    },
    {
     "name": "stdout",
     "output_type": "stream",
     "text": [
      "Epoch : 22 - loss : 0.0934 - acc: 95.9889% - val_loss : 0.0939 - val_acc: 95.9000%\n"
     ]
    },
    {
     "name": "stderr",
     "output_type": "stream",
     "text": [
      "100%|██████████| 141/141 [00:36<00:00,  3.85it/s]\n",
      "100%|██████████| 16/16 [00:01<00:00, 10.10it/s]\n"
     ]
    },
    {
     "name": "stdout",
     "output_type": "stream",
     "text": [
      "Epoch : 23 - loss : 0.0980 - acc: 95.6778% - val_loss : 0.1079 - val_acc: 94.7000%\n"
     ]
    },
    {
     "name": "stderr",
     "output_type": "stream",
     "text": [
      "100%|██████████| 141/141 [00:36<00:00,  3.83it/s]\n",
      "100%|██████████| 16/16 [00:01<00:00, 12.16it/s]\n"
     ]
    },
    {
     "name": "stdout",
     "output_type": "stream",
     "text": [
      "Epoch : 24 - loss : 0.0946 - acc: 96.0889% - val_loss : 0.0840 - val_acc: 96.8000%\n"
     ]
    },
    {
     "name": "stderr",
     "output_type": "stream",
     "text": [
      "100%|██████████| 141/141 [00:36<00:00,  3.84it/s]\n",
      "100%|██████████| 16/16 [00:01<00:00, 11.08it/s]\n"
     ]
    },
    {
     "name": "stdout",
     "output_type": "stream",
     "text": [
      "Epoch : 25 - loss : 0.0945 - acc: 95.9333% - val_loss : 0.0775 - val_acc: 96.4000%\n"
     ]
    },
    {
     "name": "stderr",
     "output_type": "stream",
     "text": [
      "100%|██████████| 141/141 [00:37<00:00,  3.80it/s]\n",
      "100%|██████████| 16/16 [00:01<00:00, 12.11it/s]\n"
     ]
    },
    {
     "name": "stdout",
     "output_type": "stream",
     "text": [
      "Epoch : 26 - loss : 0.0936 - acc: 96.0222% - val_loss : 0.0742 - val_acc: 97.5000%\n"
     ]
    },
    {
     "name": "stderr",
     "output_type": "stream",
     "text": [
      "100%|██████████| 141/141 [00:37<00:00,  3.79it/s]\n",
      "100%|██████████| 16/16 [00:01<00:00,  9.63it/s]\n"
     ]
    },
    {
     "name": "stdout",
     "output_type": "stream",
     "text": [
      "Epoch : 27 - loss : 0.0938 - acc: 96.0778% - val_loss : 0.0748 - val_acc: 96.8000%\n"
     ]
    },
    {
     "name": "stderr",
     "output_type": "stream",
     "text": [
      "100%|██████████| 141/141 [00:37<00:00,  3.77it/s]\n",
      "100%|██████████| 16/16 [00:01<00:00, 12.27it/s]\n"
     ]
    },
    {
     "name": "stdout",
     "output_type": "stream",
     "text": [
      "Epoch : 28 - loss : 0.0933 - acc: 96.0889% - val_loss : 0.0696 - val_acc: 98.0000%\n"
     ]
    },
    {
     "name": "stderr",
     "output_type": "stream",
     "text": [
      "100%|██████████| 141/141 [00:36<00:00,  3.83it/s]\n",
      "100%|██████████| 16/16 [00:01<00:00, 12.14it/s]\n"
     ]
    },
    {
     "name": "stdout",
     "output_type": "stream",
     "text": [
      "Epoch : 29 - loss : 0.0924 - acc: 96.0222% - val_loss : 0.0766 - val_acc: 97.0000%\n"
     ]
    },
    {
     "name": "stderr",
     "output_type": "stream",
     "text": [
      "100%|██████████| 141/141 [00:36<00:00,  3.83it/s]\n",
      "100%|██████████| 16/16 [00:01<00:00, 12.30it/s]\n"
     ]
    },
    {
     "name": "stdout",
     "output_type": "stream",
     "text": [
      "Epoch : 30 - loss : 0.0811 - acc: 96.5111% - val_loss : 0.0706 - val_acc: 97.2000%\n"
     ]
    },
    {
     "name": "stderr",
     "output_type": "stream",
     "text": [
      "100%|██████████| 141/141 [00:36<00:00,  3.83it/s]\n",
      "100%|██████████| 16/16 [00:01<00:00, 11.42it/s]\n"
     ]
    },
    {
     "name": "stdout",
     "output_type": "stream",
     "text": [
      "Epoch : 31 - loss : 0.0769 - acc: 96.8444% - val_loss : 0.0680 - val_acc: 97.0000%\n"
     ]
    },
    {
     "name": "stderr",
     "output_type": "stream",
     "text": [
      "100%|██████████| 141/141 [00:36<00:00,  3.85it/s]\n",
      "100%|██████████| 16/16 [00:01<00:00, 12.25it/s]\n"
     ]
    },
    {
     "name": "stdout",
     "output_type": "stream",
     "text": [
      "Epoch : 32 - loss : 0.0753 - acc: 96.9333% - val_loss : 0.0703 - val_acc: 97.0000%\n"
     ]
    },
    {
     "name": "stderr",
     "output_type": "stream",
     "text": [
      "100%|██████████| 141/141 [00:36<00:00,  3.84it/s]\n",
      "100%|██████████| 16/16 [00:01<00:00, 11.42it/s]\n"
     ]
    },
    {
     "name": "stdout",
     "output_type": "stream",
     "text": [
      "Epoch : 33 - loss : 0.0792 - acc: 96.8222% - val_loss : 0.0814 - val_acc: 96.3000%\n"
     ]
    },
    {
     "name": "stderr",
     "output_type": "stream",
     "text": [
      "100%|██████████| 141/141 [00:36<00:00,  3.87it/s]\n",
      "100%|██████████| 16/16 [00:01<00:00, 12.37it/s]\n"
     ]
    },
    {
     "name": "stdout",
     "output_type": "stream",
     "text": [
      "Epoch : 34 - loss : 0.0723 - acc: 96.9778% - val_loss : 0.0746 - val_acc: 96.8000%\n"
     ]
    },
    {
     "name": "stderr",
     "output_type": "stream",
     "text": [
      "100%|██████████| 141/141 [00:36<00:00,  3.83it/s]\n",
      "100%|██████████| 16/16 [00:01<00:00, 11.10it/s]\n"
     ]
    },
    {
     "name": "stdout",
     "output_type": "stream",
     "text": [
      "Epoch : 35 - loss : 0.0723 - acc: 96.9667% - val_loss : 0.0668 - val_acc: 97.5000%\n"
     ]
    },
    {
     "name": "stderr",
     "output_type": "stream",
     "text": [
      "100%|██████████| 141/141 [00:36<00:00,  3.83it/s]\n",
      "100%|██████████| 16/16 [00:01<00:00, 12.18it/s]\n"
     ]
    },
    {
     "name": "stdout",
     "output_type": "stream",
     "text": [
      "Epoch : 36 - loss : 0.0724 - acc: 97.1333% - val_loss : 0.0678 - val_acc: 97.4000%\n"
     ]
    },
    {
     "name": "stderr",
     "output_type": "stream",
     "text": [
      "100%|██████████| 141/141 [00:36<00:00,  3.87it/s]\n",
      "100%|██████████| 16/16 [00:01<00:00, 11.38it/s]\n"
     ]
    },
    {
     "name": "stdout",
     "output_type": "stream",
     "text": [
      "Epoch : 37 - loss : 0.0704 - acc: 97.0444% - val_loss : 0.0525 - val_acc: 97.8000%\n"
     ]
    },
    {
     "name": "stderr",
     "output_type": "stream",
     "text": [
      "100%|██████████| 141/141 [00:36<00:00,  3.85it/s]\n",
      "100%|██████████| 16/16 [00:01<00:00, 12.28it/s]\n"
     ]
    },
    {
     "name": "stdout",
     "output_type": "stream",
     "text": [
      "Epoch : 38 - loss : 0.0686 - acc: 97.1889% - val_loss : 0.0725 - val_acc: 97.4000%\n"
     ]
    },
    {
     "name": "stderr",
     "output_type": "stream",
     "text": [
      "100%|██████████| 141/141 [00:36<00:00,  3.90it/s]\n",
      "100%|██████████| 16/16 [00:01<00:00, 11.75it/s]\n"
     ]
    },
    {
     "name": "stdout",
     "output_type": "stream",
     "text": [
      "Epoch : 39 - loss : 0.0722 - acc: 97.1000% - val_loss : 0.0703 - val_acc: 97.1000%\n"
     ]
    },
    {
     "name": "stderr",
     "output_type": "stream",
     "text": [
      "100%|██████████| 141/141 [00:36<00:00,  3.88it/s]\n",
      "100%|██████████| 16/16 [00:01<00:00, 12.22it/s]\n"
     ]
    },
    {
     "name": "stdout",
     "output_type": "stream",
     "text": [
      "Epoch : 40 - loss : 0.0679 - acc: 97.0889% - val_loss : 0.0542 - val_acc: 98.4000%\n"
     ]
    },
    {
     "name": "stderr",
     "output_type": "stream",
     "text": [
      "100%|██████████| 141/141 [00:35<00:00,  3.97it/s]\n",
      "100%|██████████| 16/16 [00:01<00:00, 12.24it/s]\n"
     ]
    },
    {
     "name": "stdout",
     "output_type": "stream",
     "text": [
      "Epoch : 41 - loss : 0.0644 - acc: 97.1778% - val_loss : 0.0514 - val_acc: 98.1000%\n"
     ]
    },
    {
     "name": "stderr",
     "output_type": "stream",
     "text": [
      "100%|██████████| 141/141 [00:35<00:00,  3.98it/s]\n",
      "100%|██████████| 16/16 [00:01<00:00, 11.11it/s]\n"
     ]
    },
    {
     "name": "stdout",
     "output_type": "stream",
     "text": [
      "Epoch : 42 - loss : 0.0645 - acc: 97.2667% - val_loss : 0.0653 - val_acc: 97.5000%\n"
     ]
    },
    {
     "name": "stderr",
     "output_type": "stream",
     "text": [
      "100%|██████████| 141/141 [00:35<00:00,  3.97it/s]\n",
      "100%|██████████| 16/16 [00:01<00:00, 12.35it/s]\n"
     ]
    },
    {
     "name": "stdout",
     "output_type": "stream",
     "text": [
      "Epoch : 43 - loss : 0.0632 - acc: 97.3333% - val_loss : 0.0439 - val_acc: 98.2000%\n"
     ]
    },
    {
     "name": "stderr",
     "output_type": "stream",
     "text": [
      "100%|██████████| 141/141 [00:36<00:00,  3.90it/s]\n",
      "100%|██████████| 16/16 [00:01<00:00, 12.33it/s]\n"
     ]
    },
    {
     "name": "stdout",
     "output_type": "stream",
     "text": [
      "Epoch : 44 - loss : 0.0630 - acc: 97.3222% - val_loss : 0.0631 - val_acc: 97.7000%\n"
     ]
    },
    {
     "name": "stderr",
     "output_type": "stream",
     "text": [
      "100%|██████████| 141/141 [00:35<00:00,  3.96it/s]\n",
      "100%|██████████| 16/16 [00:01<00:00, 11.21it/s]\n"
     ]
    },
    {
     "name": "stdout",
     "output_type": "stream",
     "text": [
      "Epoch : 45 - loss : 0.0649 - acc: 97.1556% - val_loss : 0.0594 - val_acc: 97.9000%\n"
     ]
    },
    {
     "name": "stderr",
     "output_type": "stream",
     "text": [
      "100%|██████████| 141/141 [00:35<00:00,  3.96it/s]\n",
      "100%|██████████| 16/16 [00:01<00:00, 12.27it/s]\n"
     ]
    },
    {
     "name": "stdout",
     "output_type": "stream",
     "text": [
      "Epoch : 46 - loss : 0.0626 - acc: 97.2889% - val_loss : 0.0557 - val_acc: 97.9000%\n"
     ]
    },
    {
     "name": "stderr",
     "output_type": "stream",
     "text": [
      "100%|██████████| 141/141 [00:35<00:00,  3.97it/s]\n",
      "100%|██████████| 16/16 [00:01<00:00, 11.56it/s]\n"
     ]
    },
    {
     "name": "stdout",
     "output_type": "stream",
     "text": [
      "Epoch : 47 - loss : 0.0592 - acc: 97.4556% - val_loss : 0.0505 - val_acc: 97.9000%\n"
     ]
    },
    {
     "name": "stderr",
     "output_type": "stream",
     "text": [
      "100%|██████████| 141/141 [00:35<00:00,  3.93it/s]\n",
      "100%|██████████| 16/16 [00:01<00:00, 12.18it/s]\n"
     ]
    },
    {
     "name": "stdout",
     "output_type": "stream",
     "text": [
      "Epoch : 48 - loss : 0.0588 - acc: 97.7333% - val_loss : 0.0522 - val_acc: 97.9000%\n"
     ]
    },
    {
     "name": "stderr",
     "output_type": "stream",
     "text": [
      "100%|██████████| 141/141 [00:35<00:00,  3.93it/s]\n",
      "100%|██████████| 16/16 [00:01<00:00, 12.23it/s]\n"
     ]
    },
    {
     "name": "stdout",
     "output_type": "stream",
     "text": [
      "Epoch : 49 - loss : 0.0595 - acc: 97.6000% - val_loss : 0.0407 - val_acc: 98.5000%\n"
     ]
    },
    {
     "name": "stderr",
     "output_type": "stream",
     "text": [
      "100%|██████████| 141/141 [00:37<00:00,  3.81it/s]\n",
      "100%|██████████| 16/16 [00:01<00:00, 10.88it/s]\n"
     ]
    },
    {
     "name": "stdout",
     "output_type": "stream",
     "text": [
      "Epoch : 50 - loss : 0.0578 - acc: 97.5556% - val_loss : 0.0630 - val_acc: 97.8000%\n"
     ]
    },
    {
     "name": "stderr",
     "output_type": "stream",
     "text": [
      "100%|██████████| 141/141 [00:35<00:00,  3.93it/s]\n",
      "100%|██████████| 16/16 [00:01<00:00, 12.18it/s]\n"
     ]
    },
    {
     "name": "stdout",
     "output_type": "stream",
     "text": [
      "Epoch : 51 - loss : 0.0595 - acc: 97.4111% - val_loss : 0.0556 - val_acc: 97.7000%\n"
     ]
    },
    {
     "name": "stderr",
     "output_type": "stream",
     "text": [
      "100%|██████████| 141/141 [00:35<00:00,  3.96it/s]\n",
      "100%|██████████| 16/16 [00:01<00:00, 12.21it/s]\n"
     ]
    },
    {
     "name": "stdout",
     "output_type": "stream",
     "text": [
      "Epoch : 52 - loss : 0.0582 - acc: 97.6444% - val_loss : 0.0597 - val_acc: 97.9000%\n"
     ]
    },
    {
     "name": "stderr",
     "output_type": "stream",
     "text": [
      "100%|██████████| 141/141 [00:36<00:00,  3.91it/s]\n",
      "100%|██████████| 16/16 [00:01<00:00, 12.26it/s]\n"
     ]
    },
    {
     "name": "stdout",
     "output_type": "stream",
     "text": [
      "Epoch : 53 - loss : 0.0545 - acc: 97.7333% - val_loss : 0.0480 - val_acc: 98.1000%\n"
     ]
    },
    {
     "name": "stderr",
     "output_type": "stream",
     "text": [
      "100%|██████████| 141/141 [00:36<00:00,  3.91it/s]\n",
      "100%|██████████| 16/16 [00:01<00:00, 11.43it/s]\n"
     ]
    },
    {
     "name": "stdout",
     "output_type": "stream",
     "text": [
      "Epoch : 54 - loss : 0.0563 - acc: 97.9667% - val_loss : 0.0542 - val_acc: 97.6000%\n"
     ]
    },
    {
     "name": "stderr",
     "output_type": "stream",
     "text": [
      "100%|██████████| 141/141 [00:35<00:00,  3.95it/s]\n",
      "100%|██████████| 16/16 [00:01<00:00, 12.16it/s]\n"
     ]
    },
    {
     "name": "stdout",
     "output_type": "stream",
     "text": [
      "Epoch : 55 - loss : 0.0560 - acc: 97.5556% - val_loss : 0.0511 - val_acc: 98.2000%\n"
     ]
    },
    {
     "name": "stderr",
     "output_type": "stream",
     "text": [
      "100%|██████████| 141/141 [00:36<00:00,  3.82it/s]\n",
      "100%|██████████| 16/16 [00:01<00:00, 12.22it/s]\n"
     ]
    },
    {
     "name": "stdout",
     "output_type": "stream",
     "text": [
      "Epoch : 56 - loss : 0.0587 - acc: 97.4556% - val_loss : 0.0628 - val_acc: 98.0000%\n"
     ]
    },
    {
     "name": "stderr",
     "output_type": "stream",
     "text": [
      "100%|██████████| 141/141 [00:36<00:00,  3.85it/s]\n",
      "100%|██████████| 16/16 [00:01<00:00, 12.15it/s]\n"
     ]
    },
    {
     "name": "stdout",
     "output_type": "stream",
     "text": [
      "Epoch : 57 - loss : 0.0554 - acc: 97.8778% - val_loss : 0.0577 - val_acc: 97.9000%\n"
     ]
    },
    {
     "name": "stderr",
     "output_type": "stream",
     "text": [
      "100%|██████████| 141/141 [00:35<00:00,  3.93it/s]\n",
      "100%|██████████| 16/16 [00:01<00:00, 12.21it/s]\n"
     ]
    },
    {
     "name": "stdout",
     "output_type": "stream",
     "text": [
      "Epoch : 58 - loss : 0.0557 - acc: 97.7222% - val_loss : 0.0621 - val_acc: 97.5000%\n"
     ]
    },
    {
     "name": "stderr",
     "output_type": "stream",
     "text": [
      "100%|██████████| 141/141 [00:36<00:00,  3.92it/s]\n",
      "100%|██████████| 16/16 [00:01<00:00, 12.28it/s]\n"
     ]
    },
    {
     "name": "stdout",
     "output_type": "stream",
     "text": [
      "Epoch : 59 - loss : 0.0573 - acc: 97.5333% - val_loss : 0.0552 - val_acc: 97.5000%\n"
     ]
    },
    {
     "name": "stderr",
     "output_type": "stream",
     "text": [
      "100%|██████████| 141/141 [00:35<00:00,  3.92it/s]\n",
      "100%|██████████| 16/16 [00:01<00:00, 12.33it/s]\n"
     ]
    },
    {
     "name": "stdout",
     "output_type": "stream",
     "text": [
      "Epoch : 60 - loss : 0.0632 - acc: 97.3556% - val_loss : 0.0587 - val_acc: 98.2000%\n"
     ]
    },
    {
     "name": "stderr",
     "output_type": "stream",
     "text": [
      "100%|██████████| 141/141 [00:35<00:00,  3.92it/s]\n",
      "100%|██████████| 16/16 [00:02<00:00,  7.27it/s]\n"
     ]
    },
    {
     "name": "stdout",
     "output_type": "stream",
     "text": [
      "Epoch : 61 - loss : 0.0594 - acc: 97.4889% - val_loss : 0.0585 - val_acc: 97.7000%\n"
     ]
    },
    {
     "name": "stderr",
     "output_type": "stream",
     "text": [
      "100%|██████████| 141/141 [00:36<00:00,  3.89it/s]\n",
      "100%|██████████| 16/16 [00:01<00:00, 12.31it/s]\n"
     ]
    },
    {
     "name": "stdout",
     "output_type": "stream",
     "text": [
      "Epoch : 62 - loss : 0.0537 - acc: 97.8778% - val_loss : 0.0481 - val_acc: 98.2000%\n"
     ]
    },
    {
     "name": "stderr",
     "output_type": "stream",
     "text": [
      "100%|██████████| 141/141 [00:35<00:00,  3.94it/s]\n",
      "100%|██████████| 16/16 [00:01<00:00, 12.07it/s]\n"
     ]
    },
    {
     "name": "stdout",
     "output_type": "stream",
     "text": [
      "Epoch : 63 - loss : 0.0548 - acc: 97.7111% - val_loss : 0.0556 - val_acc: 97.9000%\n"
     ]
    },
    {
     "name": "stderr",
     "output_type": "stream",
     "text": [
      "100%|██████████| 141/141 [00:36<00:00,  3.83it/s]\n",
      "100%|██████████| 16/16 [00:01<00:00, 12.08it/s]\n"
     ]
    },
    {
     "name": "stdout",
     "output_type": "stream",
     "text": [
      "Epoch : 64 - loss : 0.0545 - acc: 97.7444% - val_loss : 0.0587 - val_acc: 97.2000%\n"
     ]
    },
    {
     "name": "stderr",
     "output_type": "stream",
     "text": [
      "100%|██████████| 141/141 [00:36<00:00,  3.88it/s]\n",
      "100%|██████████| 16/16 [00:01<00:00, 12.18it/s]\n"
     ]
    },
    {
     "name": "stdout",
     "output_type": "stream",
     "text": [
      "Epoch : 65 - loss : 0.0502 - acc: 97.9222% - val_loss : 0.0513 - val_acc: 97.8000%\n"
     ]
    },
    {
     "name": "stderr",
     "output_type": "stream",
     "text": [
      "100%|██████████| 141/141 [00:36<00:00,  3.86it/s]\n",
      "100%|██████████| 16/16 [00:01<00:00, 12.26it/s]\n"
     ]
    },
    {
     "name": "stdout",
     "output_type": "stream",
     "text": [
      "Epoch : 66 - loss : 0.0537 - acc: 97.8111% - val_loss : 0.0550 - val_acc: 97.6000%\n"
     ]
    },
    {
     "name": "stderr",
     "output_type": "stream",
     "text": [
      "100%|██████████| 141/141 [00:37<00:00,  3.79it/s]\n",
      "100%|██████████| 16/16 [00:01<00:00, 12.32it/s]\n"
     ]
    },
    {
     "name": "stdout",
     "output_type": "stream",
     "text": [
      "Epoch : 67 - loss : 0.0548 - acc: 97.8111% - val_loss : 0.0510 - val_acc: 98.4000%\n"
     ]
    },
    {
     "name": "stderr",
     "output_type": "stream",
     "text": [
      "100%|██████████| 141/141 [00:36<00:00,  3.85it/s]\n",
      "100%|██████████| 16/16 [00:01<00:00, 12.18it/s]\n"
     ]
    },
    {
     "name": "stdout",
     "output_type": "stream",
     "text": [
      "Epoch : 68 - loss : 0.0577 - acc: 97.5444% - val_loss : 0.0634 - val_acc: 97.8000%\n"
     ]
    },
    {
     "name": "stderr",
     "output_type": "stream",
     "text": [
      "100%|██████████| 141/141 [00:36<00:00,  3.89it/s]\n",
      "100%|██████████| 16/16 [00:01<00:00, 12.34it/s]\n"
     ]
    },
    {
     "name": "stdout",
     "output_type": "stream",
     "text": [
      "Epoch : 69 - loss : 0.0565 - acc: 97.6222% - val_loss : 0.0487 - val_acc: 98.5000%\n"
     ]
    },
    {
     "name": "stderr",
     "output_type": "stream",
     "text": [
      "100%|██████████| 141/141 [00:36<00:00,  3.89it/s]\n",
      "100%|██████████| 16/16 [00:01<00:00, 12.23it/s]\n"
     ]
    },
    {
     "name": "stdout",
     "output_type": "stream",
     "text": [
      "Epoch : 70 - loss : 0.0555 - acc: 97.7778% - val_loss : 0.0613 - val_acc: 97.2000%\n"
     ]
    },
    {
     "name": "stderr",
     "output_type": "stream",
     "text": [
      "100%|██████████| 141/141 [00:36<00:00,  3.87it/s]\n",
      "100%|██████████| 16/16 [00:01<00:00, 12.28it/s]\n"
     ]
    },
    {
     "name": "stdout",
     "output_type": "stream",
     "text": [
      "Epoch : 71 - loss : 0.0556 - acc: 97.7111% - val_loss : 0.0737 - val_acc: 97.5000%\n"
     ]
    },
    {
     "name": "stderr",
     "output_type": "stream",
     "text": [
      "100%|██████████| 141/141 [00:37<00:00,  3.77it/s]\n",
      "100%|██████████| 16/16 [00:01<00:00, 12.00it/s]\n"
     ]
    },
    {
     "name": "stdout",
     "output_type": "stream",
     "text": [
      "Epoch : 72 - loss : 0.0516 - acc: 97.9000% - val_loss : 0.0516 - val_acc: 98.3000%\n"
     ]
    },
    {
     "name": "stderr",
     "output_type": "stream",
     "text": [
      "100%|██████████| 141/141 [00:36<00:00,  3.85it/s]\n",
      "100%|██████████| 16/16 [00:01<00:00, 12.11it/s]\n"
     ]
    },
    {
     "name": "stdout",
     "output_type": "stream",
     "text": [
      "Epoch : 73 - loss : 0.0543 - acc: 97.7444% - val_loss : 0.0506 - val_acc: 98.1000%\n"
     ]
    },
    {
     "name": "stderr",
     "output_type": "stream",
     "text": [
      "100%|██████████| 141/141 [00:36<00:00,  3.85it/s]\n",
      "100%|██████████| 16/16 [00:01<00:00, 11.08it/s]\n"
     ]
    },
    {
     "name": "stdout",
     "output_type": "stream",
     "text": [
      "Epoch : 74 - loss : 0.0503 - acc: 97.9222% - val_loss : 0.0516 - val_acc: 97.9000%\n"
     ]
    },
    {
     "name": "stderr",
     "output_type": "stream",
     "text": [
      "100%|██████████| 141/141 [00:36<00:00,  3.91it/s]\n",
      "100%|██████████| 16/16 [00:01<00:00, 12.28it/s]\n"
     ]
    },
    {
     "name": "stdout",
     "output_type": "stream",
     "text": [
      "Epoch : 75 - loss : 0.0564 - acc: 97.7556% - val_loss : 0.0396 - val_acc: 98.4000%\n"
     ]
    },
    {
     "name": "stderr",
     "output_type": "stream",
     "text": [
      "100%|██████████| 141/141 [00:35<00:00,  3.94it/s]\n",
      "100%|██████████| 16/16 [00:01<00:00, 12.09it/s]\n"
     ]
    },
    {
     "name": "stdout",
     "output_type": "stream",
     "text": [
      "Epoch : 76 - loss : 0.0555 - acc: 97.6111% - val_loss : 0.0445 - val_acc: 98.2000%\n"
     ]
    },
    {
     "name": "stderr",
     "output_type": "stream",
     "text": [
      "100%|██████████| 141/141 [00:36<00:00,  3.86it/s]\n",
      "100%|██████████| 16/16 [00:02<00:00,  7.04it/s]\n"
     ]
    },
    {
     "name": "stdout",
     "output_type": "stream",
     "text": [
      "Epoch : 77 - loss : 0.0512 - acc: 98.0222% - val_loss : 0.0489 - val_acc: 97.7000%\n"
     ]
    },
    {
     "name": "stderr",
     "output_type": "stream",
     "text": [
      "100%|██████████| 141/141 [00:36<00:00,  3.92it/s]\n",
      "100%|██████████| 16/16 [00:01<00:00, 12.23it/s]\n"
     ]
    },
    {
     "name": "stdout",
     "output_type": "stream",
     "text": [
      "Epoch : 78 - loss : 0.0544 - acc: 97.6000% - val_loss : 0.0494 - val_acc: 97.7000%\n"
     ]
    },
    {
     "name": "stderr",
     "output_type": "stream",
     "text": [
      "100%|██████████| 141/141 [00:36<00:00,  3.88it/s]\n",
      "100%|██████████| 16/16 [00:01<00:00, 12.33it/s]\n"
     ]
    },
    {
     "name": "stdout",
     "output_type": "stream",
     "text": [
      "Epoch : 79 - loss : 0.0522 - acc: 97.8222% - val_loss : 0.0629 - val_acc: 97.4000%\n"
     ]
    },
    {
     "name": "stderr",
     "output_type": "stream",
     "text": [
      "100%|██████████| 141/141 [00:36<00:00,  3.87it/s]\n",
      "100%|██████████| 16/16 [00:01<00:00, 12.30it/s]\n"
     ]
    },
    {
     "name": "stdout",
     "output_type": "stream",
     "text": [
      "Epoch : 80 - loss : 0.0514 - acc: 97.8778% - val_loss : 0.0525 - val_acc: 97.9000%\n"
     ]
    },
    {
     "name": "stderr",
     "output_type": "stream",
     "text": [
      "100%|██████████| 141/141 [00:36<00:00,  3.90it/s]\n",
      "100%|██████████| 16/16 [00:01<00:00, 12.35it/s]\n"
     ]
    },
    {
     "name": "stdout",
     "output_type": "stream",
     "text": [
      "Epoch : 81 - loss : 0.0542 - acc: 97.7667% - val_loss : 0.0577 - val_acc: 97.5000%\n"
     ]
    },
    {
     "name": "stderr",
     "output_type": "stream",
     "text": [
      "100%|██████████| 141/141 [00:36<00:00,  3.90it/s]\n",
      "100%|██████████| 16/16 [00:01<00:00, 12.41it/s]\n"
     ]
    },
    {
     "name": "stdout",
     "output_type": "stream",
     "text": [
      "Epoch : 82 - loss : 0.0491 - acc: 97.9222% - val_loss : 0.0499 - val_acc: 98.4000%\n"
     ]
    },
    {
     "name": "stderr",
     "output_type": "stream",
     "text": [
      "100%|██████████| 141/141 [00:36<00:00,  3.82it/s]\n",
      "100%|██████████| 16/16 [00:01<00:00, 11.23it/s]\n"
     ]
    },
    {
     "name": "stdout",
     "output_type": "stream",
     "text": [
      "Epoch : 83 - loss : 0.0548 - acc: 97.7444% - val_loss : 0.0470 - val_acc: 98.5000%\n"
     ]
    },
    {
     "name": "stderr",
     "output_type": "stream",
     "text": [
      "100%|██████████| 141/141 [00:36<00:00,  3.86it/s]\n",
      "100%|██████████| 16/16 [00:01<00:00, 12.19it/s]\n"
     ]
    },
    {
     "name": "stdout",
     "output_type": "stream",
     "text": [
      "Epoch : 84 - loss : 0.0525 - acc: 97.6778% - val_loss : 0.0583 - val_acc: 97.5000%\n"
     ]
    },
    {
     "name": "stderr",
     "output_type": "stream",
     "text": [
      "100%|██████████| 141/141 [00:36<00:00,  3.92it/s]\n",
      "100%|██████████| 16/16 [00:01<00:00, 11.60it/s]\n"
     ]
    },
    {
     "name": "stdout",
     "output_type": "stream",
     "text": [
      "Epoch : 85 - loss : 0.0527 - acc: 97.9111% - val_loss : 0.0517 - val_acc: 97.8000%\n"
     ]
    },
    {
     "name": "stderr",
     "output_type": "stream",
     "text": [
      "100%|██████████| 141/141 [00:36<00:00,  3.90it/s]\n",
      "100%|██████████| 16/16 [00:01<00:00, 12.35it/s]\n"
     ]
    },
    {
     "name": "stdout",
     "output_type": "stream",
     "text": [
      "Epoch : 86 - loss : 0.0548 - acc: 97.7667% - val_loss : 0.0470 - val_acc: 97.9000%\n"
     ]
    },
    {
     "name": "stderr",
     "output_type": "stream",
     "text": [
      "100%|██████████| 141/141 [00:36<00:00,  3.88it/s]\n",
      "100%|██████████| 16/16 [00:01<00:00, 12.22it/s]\n"
     ]
    },
    {
     "name": "stdout",
     "output_type": "stream",
     "text": [
      "Epoch : 87 - loss : 0.0557 - acc: 97.5667% - val_loss : 0.0513 - val_acc: 98.1000%\n"
     ]
    },
    {
     "name": "stderr",
     "output_type": "stream",
     "text": [
      "100%|██████████| 141/141 [00:36<00:00,  3.84it/s]\n",
      "100%|██████████| 16/16 [00:01<00:00, 12.01it/s]\n"
     ]
    },
    {
     "name": "stdout",
     "output_type": "stream",
     "text": [
      "Epoch : 88 - loss : 0.0495 - acc: 97.9889% - val_loss : 0.0558 - val_acc: 97.6000%\n"
     ]
    },
    {
     "name": "stderr",
     "output_type": "stream",
     "text": [
      "100%|██████████| 141/141 [00:36<00:00,  3.90it/s]\n",
      "100%|██████████| 16/16 [00:01<00:00, 12.14it/s]\n"
     ]
    },
    {
     "name": "stdout",
     "output_type": "stream",
     "text": [
      "Epoch : 89 - loss : 0.0529 - acc: 97.8889% - val_loss : 0.0402 - val_acc: 98.6000%\n"
     ]
    },
    {
     "name": "stderr",
     "output_type": "stream",
     "text": [
      "100%|██████████| 141/141 [00:36<00:00,  3.86it/s]\n",
      "100%|██████████| 16/16 [00:01<00:00, 12.29it/s]\n"
     ]
    },
    {
     "name": "stdout",
     "output_type": "stream",
     "text": [
      "Epoch : 90 - loss : 0.0517 - acc: 97.9444% - val_loss : 0.0509 - val_acc: 98.1000%\n"
     ]
    },
    {
     "name": "stderr",
     "output_type": "stream",
     "text": [
      "100%|██████████| 141/141 [00:36<00:00,  3.91it/s]\n",
      "100%|██████████| 16/16 [00:01<00:00, 12.36it/s]\n"
     ]
    },
    {
     "name": "stdout",
     "output_type": "stream",
     "text": [
      "Epoch : 91 - loss : 0.0520 - acc: 97.9889% - val_loss : 0.0518 - val_acc: 98.0000%\n"
     ]
    },
    {
     "name": "stderr",
     "output_type": "stream",
     "text": [
      "100%|██████████| 141/141 [00:36<00:00,  3.87it/s]\n",
      "100%|██████████| 16/16 [00:01<00:00, 11.83it/s]\n"
     ]
    },
    {
     "name": "stdout",
     "output_type": "stream",
     "text": [
      "Epoch : 92 - loss : 0.0574 - acc: 97.8333% - val_loss : 0.0500 - val_acc: 98.2000%\n"
     ]
    },
    {
     "name": "stderr",
     "output_type": "stream",
     "text": [
      "100%|██████████| 141/141 [00:36<00:00,  3.87it/s]\n",
      "100%|██████████| 16/16 [00:01<00:00, 12.02it/s]\n"
     ]
    },
    {
     "name": "stdout",
     "output_type": "stream",
     "text": [
      "Epoch : 93 - loss : 0.0542 - acc: 97.6667% - val_loss : 0.0551 - val_acc: 97.6000%\n"
     ]
    },
    {
     "name": "stderr",
     "output_type": "stream",
     "text": [
      "100%|██████████| 141/141 [00:36<00:00,  3.82it/s]\n",
      "100%|██████████| 16/16 [00:01<00:00, 10.82it/s]\n"
     ]
    },
    {
     "name": "stdout",
     "output_type": "stream",
     "text": [
      "Epoch : 94 - loss : 0.0515 - acc: 97.8222% - val_loss : 0.0508 - val_acc: 98.2000%\n"
     ]
    },
    {
     "name": "stderr",
     "output_type": "stream",
     "text": [
      "100%|██████████| 141/141 [00:36<00:00,  3.85it/s]\n",
      "100%|██████████| 16/16 [00:01<00:00, 12.28it/s]\n"
     ]
    },
    {
     "name": "stdout",
     "output_type": "stream",
     "text": [
      "Epoch : 95 - loss : 0.0508 - acc: 97.9444% - val_loss : 0.0529 - val_acc: 98.0000%\n"
     ]
    },
    {
     "name": "stderr",
     "output_type": "stream",
     "text": [
      "100%|██████████| 141/141 [00:36<00:00,  3.90it/s]\n",
      "100%|██████████| 16/16 [00:01<00:00, 11.67it/s]\n"
     ]
    },
    {
     "name": "stdout",
     "output_type": "stream",
     "text": [
      "Epoch : 96 - loss : 0.0519 - acc: 98.0222% - val_loss : 0.0422 - val_acc: 97.9000%\n"
     ]
    },
    {
     "name": "stderr",
     "output_type": "stream",
     "text": [
      "100%|██████████| 141/141 [00:35<00:00,  3.93it/s]\n",
      "100%|██████████| 16/16 [00:01<00:00, 12.23it/s]\n"
     ]
    },
    {
     "name": "stdout",
     "output_type": "stream",
     "text": [
      "Epoch : 97 - loss : 0.0562 - acc: 97.7333% - val_loss : 0.0544 - val_acc: 98.1000%\n"
     ]
    },
    {
     "name": "stderr",
     "output_type": "stream",
     "text": [
      "100%|██████████| 141/141 [00:36<00:00,  3.87it/s]\n",
      "100%|██████████| 16/16 [00:01<00:00, 12.35it/s]\n"
     ]
    },
    {
     "name": "stdout",
     "output_type": "stream",
     "text": [
      "Epoch : 98 - loss : 0.0526 - acc: 97.8111% - val_loss : 0.0567 - val_acc: 97.8000%\n"
     ]
    },
    {
     "name": "stderr",
     "output_type": "stream",
     "text": [
      "100%|██████████| 141/141 [00:36<00:00,  3.82it/s]\n",
      "100%|██████████| 16/16 [00:01<00:00, 12.32it/s]\n"
     ]
    },
    {
     "name": "stdout",
     "output_type": "stream",
     "text": [
      "Epoch : 99 - loss : 0.0540 - acc: 97.7444% - val_loss : 0.0538 - val_acc: 97.9000%\n"
     ]
    },
    {
     "name": "stderr",
     "output_type": "stream",
     "text": [
      "100%|██████████| 141/141 [00:36<00:00,  3.88it/s]\n",
      "100%|██████████| 16/16 [00:01<00:00, 12.21it/s]\n"
     ]
    },
    {
     "name": "stdout",
     "output_type": "stream",
     "text": [
      "Epoch : 100 - loss : 0.0560 - acc: 97.7222% - val_loss : 0.0620 - val_acc: 97.8000%\n"
     ]
    }
   ],
   "source": [
    "all_train_loss = []\n",
    "all_test_loss = []\n",
    "all_train_accuracy = []\n",
    "all_test_accuracy = []\n",
    "\n",
    "best_accuracy = 0\n",
    "\n",
    "for epoch in range(epochs):\n",
    "    epoch_loss = 0\n",
    "    epoch_accuracy = 0\n",
    "    correct, total = 0,0\n",
    "    model.train()\n",
    "    tr_loss_epoch = []\n",
    "    test_loss_epoch = []\n",
    "    for data, label in tqdm(lense_train):\n",
    "        data = data.to(device)\n",
    "        label = label.to(device)\n",
    "\n",
    "        output = model(data)\n",
    "        loss = criterion(output, label)\n",
    "        tr_loss_epoch.append(loss.item())\n",
    "        optimizer.zero_grad()\n",
    "        loss.backward()\n",
    "        optimizer.step()\n",
    "        acc = (output.argmax(dim=1) == label).sum()\n",
    "        correct += acc.item()\n",
    "        total+= len(label)\n",
    "        \n",
    "        epoch_loss += loss / len(lense_train)\n",
    "    scheduler.step()\n",
    "    all_train_loss.append(np.asarray(tr_loss_epoch))\n",
    "    all_train_accuracy.append(correct/total*100)\n",
    "    epoch_accuracy = (correct/total)*100\n",
    "    correct, total = 0,0\n",
    "\n",
    "    torch.cuda.empty_cache()\n",
    "    with torch.no_grad():\n",
    "        epoch_val_accuracy = 0\n",
    "        epoch_val_loss = 0\n",
    "        for data, label in tqdm(lense_test):\n",
    "            data = data.to(device)\n",
    "            label = label.to(device)\n",
    "\n",
    "            val_output = model(data)\n",
    "            val_loss = criterion(val_output, label)\n",
    "            test_loss_epoch.append(val_loss.item())\n",
    "            acc = (val_output.argmax(dim=1) == label).sum()\n",
    "            correct += acc.item()\n",
    "            total += len(label)\n",
    "            \n",
    "            epoch_val_loss += val_loss / len(lense_test)\n",
    "        all_test_loss.append(np.asarray(test_loss_epoch))\n",
    "        all_test_accuracy.append(correct/total*100)\n",
    "    epoch_val_accuracy = (correct/total)*100\n",
    "    \n",
    "    if epoch_val_accuracy > best_accuracy:\n",
    "        best_accuracy = epoch_val_accuracy\n",
    "        best_model = copy.deepcopy(model)    \n",
    "    \n",
    "    print(\n",
    "        f\"Epoch : {epoch+1} - loss : {epoch_loss:.4f} - acc: {epoch_accuracy:.4f}% - val_loss : {epoch_val_loss:.4f} - val_acc: {epoch_val_accuracy:.4f}%\"\n",
    "    )\n",
    "torch.save(best_model.state_dict(), 'bestmodel.pth')\n",
    "all_train_loss_mean = [j.mean() for j in all_train_loss]\n",
    "all_test_loss_mean = [j.mean() for j in all_test_loss]"
   ]
  },
  {
   "cell_type": "code",
   "execution_count": 9,
   "id": "41f89b6e",
   "metadata": {
    "execution": {
     "iopub.execute_input": "2023-02-27T08:45:31.434433Z",
     "iopub.status.busy": "2023-02-27T08:45:31.434040Z",
     "iopub.status.idle": "2023-02-27T08:45:31.440819Z",
     "shell.execute_reply": "2023-02-27T08:45:31.439666Z"
    },
    "papermill": {
     "duration": 0.799552,
     "end_time": "2023-02-27T08:45:31.443137",
     "exception": false,
     "start_time": "2023-02-27T08:45:30.643585",
     "status": "completed"
    },
    "tags": []
   },
   "outputs": [],
   "source": [
    "model = best_model"
   ]
  },
  {
   "cell_type": "markdown",
   "id": "33c8fbbd",
   "metadata": {
    "papermill": {
     "duration": 0.839469,
     "end_time": "2023-02-27T08:45:33.337721",
     "exception": false,
     "start_time": "2023-02-27T08:45:32.498252",
     "status": "completed"
    },
    "tags": []
   },
   "source": [
    "# Plotting Loss and Accuracy"
   ]
  },
  {
   "cell_type": "code",
   "execution_count": 10,
   "id": "1b9c6817",
   "metadata": {
    "execution": {
     "iopub.execute_input": "2023-02-27T08:45:34.979840Z",
     "iopub.status.busy": "2023-02-27T08:45:34.979439Z",
     "iopub.status.idle": "2023-02-27T08:45:35.460853Z",
     "shell.execute_reply": "2023-02-27T08:45:35.459917Z"
    },
    "papermill": {
     "duration": 1.339168,
     "end_time": "2023-02-27T08:45:35.463009",
     "exception": false,
     "start_time": "2023-02-27T08:45:34.123841",
     "status": "completed"
    },
    "tags": []
   },
   "outputs": [
    {
     "data": {
      "text/plain": [
       "[<matplotlib.lines.Line2D at 0x7f97e245cb50>]"
      ]
     },
     "execution_count": 10,
     "metadata": {},
     "output_type": "execute_result"
    },
    {
     "data": {
      "image/png": "[encoded data removed]",
      "text/plain": [
       "<Figure size 864x576 with 4 Axes>"
      ]
     },
     "metadata": {
      "needs_background": "light"
     },
     "output_type": "display_data"
    }
   ],
   "source": [
    "figure = plt.figure(figsize=(12, 8))\n",
    "cols, rows = 2, 2\n",
    "figure.add_subplot(rows, cols, 1)\n",
    "plt.title('Train loss Mean')\n",
    "plt.plot(all_train_loss_mean)\n",
    "figure.add_subplot(rows, cols, 2)\n",
    "plt.title('Test loss Mean')\n",
    "plt.plot(all_test_loss_mean)\n",
    "figure.add_subplot(rows, cols, 3)\n",
    "plt.title('Train accuracy Mean')\n",
    "plt.plot(all_train_accuracy)\n",
    "figure.add_subplot(rows, cols, 4)\n",
    "plt.title('Test accuracy Mean')\n",
    "plt.plot(all_test_accuracy)"
   ]
  },
  {
   "cell_type": "markdown",
   "id": "e5e4ef2a",
   "metadata": {
    "papermill": {
     "duration": 0.840433,
     "end_time": "2023-02-27T08:45:37.085309",
     "exception": false,
     "start_time": "2023-02-27T08:45:36.244876",
     "status": "completed"
    },
    "tags": []
   },
   "source": [
    "# Testing"
   ]
  },
  {
   "cell_type": "code",
   "execution_count": 11,
   "id": "d97b778f",
   "metadata": {
    "execution": {
     "iopub.execute_input": "2023-02-27T08:45:38.756261Z",
     "iopub.status.busy": "2023-02-27T08:45:38.755867Z",
     "iopub.status.idle": "2023-02-27T08:45:39.999566Z",
     "shell.execute_reply": "2023-02-27T08:45:39.998259Z"
    },
    "papermill": {
     "duration": 2.126897,
     "end_time": "2023-02-27T08:45:40.002747",
     "exception": false,
     "start_time": "2023-02-27T08:45:37.875850",
     "status": "completed"
    },
    "tags": []
   },
   "outputs": [
    {
     "name": "stderr",
     "output_type": "stream",
     "text": [
      "100%|██████████| 16/16 [00:01<00:00, 13.02it/s]\n"
     ]
    }
   ],
   "source": [
    "true_label, pred_label, pred_score, one_hot = [], [], [], []\n",
    "with torch.no_grad():\n",
    "    model.eval()\n",
    "    for i, (x, y) in enumerate(tqdm(lense_test)):\n",
    "        x = x.to(device)\n",
    "        y = y.to(device)\n",
    "        _y = model(x)\n",
    "\n",
    "        _, pred = torch.max(_y.data, 1)\n",
    "        true_label += y.tolist()\n",
    "        pred_label += pred.tolist()\n",
    "        pred_score += _y.tolist()\n",
    "        one_hot += np.eye(3)[y.cpu().numpy()].tolist()"
   ]
  },
  {
   "cell_type": "markdown",
   "id": "a846c516",
   "metadata": {
    "papermill": {
     "duration": 0.856068,
     "end_time": "2023-02-27T08:45:41.653265",
     "exception": false,
     "start_time": "2023-02-27T08:45:40.797197",
     "status": "completed"
    },
    "tags": []
   },
   "source": [
    "# Confusion Matrix"
   ]
  },
  {
   "cell_type": "code",
   "execution_count": 12,
   "id": "0a4d349c",
   "metadata": {
    "execution": {
     "iopub.execute_input": "2023-02-27T08:45:43.507927Z",
     "iopub.status.busy": "2023-02-27T08:45:43.507533Z",
     "iopub.status.idle": "2023-02-27T08:45:43.724936Z",
     "shell.execute_reply": "2023-02-27T08:45:43.723938Z"
    },
    "papermill": {
     "duration": 1.295317,
     "end_time": "2023-02-27T08:45:43.726914",
     "exception": false,
     "start_time": "2023-02-27T08:45:42.431597",
     "status": "completed"
    },
    "tags": []
   },
   "outputs": [
    {
     "data": {
      "text/plain": [
       "<sklearn.metrics._plot.confusion_matrix.ConfusionMatrixDisplay at 0x7f97e1718150>"
      ]
     },
     "execution_count": 12,
     "metadata": {},
     "output_type": "execute_result"
    },
    {
     "data": {
      "image/png": "[encoded data removed]",
      "text/plain": [
       "<Figure size 432x288 with 2 Axes>"
      ]
     },
     "metadata": {
      "needs_background": "light"
     },
     "output_type": "display_data"
    }
   ],
   "source": [
    "ConfusionMatrixDisplay(\n",
    "    confusion_matrix=confusion_matrix(true_label, pred_label)\n",
    ").plot()"
   ]
  },
  {
   "cell_type": "markdown",
   "id": "1713c9aa",
   "metadata": {
    "papermill": {
     "duration": 0.780407,
     "end_time": "2023-02-27T08:45:45.347110",
     "exception": false,
     "start_time": "2023-02-27T08:45:44.566703",
     "status": "completed"
    },
    "tags": []
   },
   "source": [
    "# AUC-SCORE"
   ]
  },
  {
   "cell_type": "code",
   "execution_count": 13,
   "id": "78d81f4a",
   "metadata": {
    "execution": {
     "iopub.execute_input": "2023-02-27T08:45:46.977481Z",
     "iopub.status.busy": "2023-02-27T08:45:46.977107Z",
     "iopub.status.idle": "2023-02-27T08:45:46.982505Z",
     "shell.execute_reply": "2023-02-27T08:45:46.981590Z"
    },
    "papermill": {
     "duration": 0.792029,
     "end_time": "2023-02-27T08:45:46.984659",
     "exception": false,
     "start_time": "2023-02-27T08:45:46.192630",
     "status": "completed"
    },
    "tags": []
   },
   "outputs": [],
   "source": [
    "def softmax(x):\n",
    "    \"\"\"Compute softmax values for each sets of scores in x.\"\"\"\n",
    "    e_x = np.exp(x - np.max(x))\n",
    "    return e_x / e_x.sum()"
   ]
  },
  {
   "cell_type": "code",
   "execution_count": 14,
   "id": "c7b369aa",
   "metadata": {
    "execution": {
     "iopub.execute_input": "2023-02-27T08:45:48.626006Z",
     "iopub.status.busy": "2023-02-27T08:45:48.625631Z",
     "iopub.status.idle": "2023-02-27T08:45:48.636394Z",
     "shell.execute_reply": "2023-02-27T08:45:48.635343Z"
    },
    "papermill": {
     "duration": 0.79903,
     "end_time": "2023-02-27T08:45:48.638659",
     "exception": false,
     "start_time": "2023-02-27T08:45:47.839629",
     "status": "completed"
    },
    "tags": []
   },
   "outputs": [
    {
     "data": {
      "text/plain": [
       "0.9841388609909609"
      ]
     },
     "execution_count": 14,
     "metadata": {},
     "output_type": "execute_result"
    }
   ],
   "source": [
    "roc_auc_score(np.array(true_label),np.array(pred_label))"
   ]
  },
  {
   "cell_type": "markdown",
   "id": "30017eb9",
   "metadata": {
    "papermill": {
     "duration": 0.780619,
     "end_time": "2023-02-27T08:45:50.271821",
     "exception": false,
     "start_time": "2023-02-27T08:45:49.491202",
     "status": "completed"
    },
    "tags": []
   },
   "source": [
    "# ROC Curve"
   ]
  },
  {
   "cell_type": "code",
   "execution_count": 15,
   "id": "2d487a43",
   "metadata": {
    "execution": {
     "iopub.execute_input": "2023-02-27T08:45:51.905223Z",
     "iopub.status.busy": "2023-02-27T08:45:51.904151Z",
     "iopub.status.idle": "2023-02-27T08:45:52.142994Z",
     "shell.execute_reply": "2023-02-27T08:45:52.141970Z"
    },
    "papermill": {
     "duration": 1.024513,
     "end_time": "2023-02-27T08:45:52.145088",
     "exception": false,
     "start_time": "2023-02-27T08:45:51.120575",
     "status": "completed"
    },
    "tags": []
   },
   "outputs": [
    {
     "data": {
      "image/png": "[encoded data removed]",
      "text/plain": [
       "<Figure size 432x288 with 1 Axes>"
      ]
     },
     "metadata": {
      "needs_background": "light"
     },
     "output_type": "display_data"
    }
   ],
   "source": [
    "fpr = dict()\n",
    "tpr = dict()\n",
    "roc_auc = dict()\n",
    "lw=2\n",
    "for i in range(2):\n",
    "    fpr[i], tpr[i], _ = roc_curve(np.array(one_hot)[:, i], np.array(pred_score)[:, i])\n",
    "    roc_auc[i] = auc(fpr[i], tpr[i])\n",
    "colors = cycle(['blue', 'red', 'green'])\n",
    "for i, color in zip(range(2), colors):\n",
    "    plt.plot(fpr[i], tpr[i], color=color, lw=2,\n",
    "             label='ROC curve of class {0} (area = {1:0.6f})'\n",
    "             ''.format(i, roc_auc[i]))\n",
    "plt.plot([0, 1], [0, 1], 'k--', lw=lw)\n",
    "plt.xlim([-0.05, 1.0])\n",
    "plt.ylim([0.0, 1.05])\n",
    "plt.xlabel('False Positive Rate')\n",
    "plt.ylabel('True Positive Rate')\n",
    "plt.title('Receiver operating characteristic for multi-class data')\n",
    "plt.legend(loc=\"lower right\")\n",
    "plt.show()"
   ]
  }
 ],
 "metadata": {
  "kernelspec": {
   "display_name": "Python 3",
   "language": "python",
   "name": "python3"
  },
  "language_info": {
   "codemirror_mode": {
    "name": "ipython",
    "version": 3
   },
   "file_extension": ".py",
   "mimetype": "text/x-python",
   "name": "python",
   "nbconvert_exporter": "python",
   "pygments_lexer": "ipython3",
   "version": "3.7.12"
  },
  "papermill": {
   "default_parameters": {},
   "duration": 3873.373843,
   "end_time": "2023-02-27T08:45:55.218924",
   "environment_variables": {},
   "exception": null,
   "input_path": "__notebook__.ipynb",
   "output_path": "__notebook__.ipynb",
   "parameters": {},
   "start_time": "2023-02-27T07:41:21.845081",
   "version": "2.3.4"
  }
 },
 "nbformat": 4,
 "nbformat_minor": 5
}
